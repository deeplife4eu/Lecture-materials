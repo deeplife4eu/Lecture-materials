{
 "cells": [
  {
   "cell_type": "markdown",
   "metadata": {},
   "source": [
    "## Project: prediction of cryptic binding sites\n",
    "\n",
    "### Introduction \n",
    "\n",
    "The accurate prediction of protein-ligand binding sites plays a pivotal role in drug discovery, protein engineering, and understanding biological functions at the molecular level. The prediction of binding sites can be carried out either based on the three dimensional structure of a protein or on its sequence. Until recently the structure-based methods have been predominantly used as the binding is governed by structural and physico-chemical complementarity of a protein and binding ligand. \n",
    "\n",
    "But, structure-based approaches have an inherent problem because they are trained and evaluated on holo structures, i.e., on ligand-bound structures from which ligand was removed, resulting in a clear cavity in the protein structure. This can be problematic as methods trained on such data are biased towards holo-structures and come short when predicting pockets in apo (ligand-free) versions of proteins where the binding site can be obscured. Binding site, which have different conformations in apo and holo forms are called cryptic binding sites. In reality, almost all existing protein-ligand binding site prediction methods are biased toward the discovery of holo-binding sites, as existing benchmarks and training datasets are componsed of holo-structures only. Thus, existing structure-based are not well suited for the detection of cryptic binding sites. Recently, a novel dataset and benchmark containing apo-holo protein pairs with substantial structural rearrangement of binding sites, called [CryptoBench](https://osf.io/pz4a9/), has been introduced. \n",
    "\n",
    "### Goal\n",
    "\n",
    "1. Evaluate the structure-based approach for protein-ligand binding site prediction from labs on holo vs. apo versions of proteins from CryptoBench and quantify how the model's performance differs when trained on holo and evaluated on holo (which is how current prediction methods are trained and evaluated) vs when evaluated on apo. To generate voxels for the CryptoBench dataset, you can use the methods from Accellera's [voxeldescriptors](https://software.acellera.com/moleculekit/moleculekit.tools.voxeldescriptors.html) module. The same module was used to generate the data for the practicals. \n",
    "2. Compare the capabilities of the structure based model and protein language models (which are conformation-independent) for the prediction of cryptic binding sites (i.e., evaluation on apo).\n",
    "3. Try to enrich the protein language model with structural features to improve it's performance. This can be achieved by adding certain properties (such as b-factor, charge, surface exposure, ...) to the NN which takes pLM embeddings on its input.\n",
    "\n",
    "Regarding the third point, one could, for instance, concatenate the properties with the embeddings and use those as inputs. Another option could be to \"inject\" these properties somewhere else in the network or use them as a postprocessing. However, any other creative approach will be appreciated.\n",
    "\n",
    "### Data and model\n",
    "\n",
    "The train/test splits containing PDB IDs of apo-holo structure pairs (and also corresponding UniProt IDs) can be obtained from the [CryptoBench OSF project site](https://osf.io/pz4a9). The 3D structures can then be downloaded, e.g., via the RCSB PDB's [file download service](https://www.rcsb.org/docs/programmatic-access/file-download-services) and processed with BioPython's [Bio.PDB package](https://biopython.org/docs/1.75/api/Bio.PDB.html) ([here](https://biopython.org/DIST/docs/tutorial/Tutorial.html#sec240) is a short tutorial for working with PDB structures in BioPython). \n",
    "\n",
    "A lot of code (working with protein language models, the DNN for structure-based binding site prediction, handling protein structures) can be reused from the labs on protein-ligand binding site prediction.\n",
    "\n",
    "Follows a list of packages that could be used as additional features for cryptic binding site prediction (some might be more suitable than others):\n",
    " - [Springcraft](https://springcraft.biotite-python.org/)\n",
    " - [MoleculeKit](https://software.acellera.com/moleculekit/index.html)"
   ]
  },
  {
   "cell_type": "markdown",
   "metadata": {},
   "source": []
  },
  {
   "cell_type": "code",
   "execution_count": null,
   "metadata": {},
   "outputs": [],
   "source": []
  }
 ],
 "metadata": {
  "language_info": {
   "name": "python"
  }
 },
 "nbformat": 4,
 "nbformat_minor": 2
}
