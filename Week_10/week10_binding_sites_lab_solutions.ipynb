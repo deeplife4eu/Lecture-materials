{
  "cells": [
    {
      "cell_type": "markdown",
      "metadata": {},
      "source": [
        "# Overview\n",
        "Over the past years, various approaches have emerged to tackle the challenge of predicting binding regions, particularly focusing on protein-ligand interaction sites. Depending on the available data, two approaches are possible: structure-based and sequence-based. While sequence-based methods rely solely on information extracted from the sequence, structure-based methods leverage insights gleaned from the three-dimensional structure of proteins.\n",
        "\n",
        "## Sequence-based methods\n",
        "In the first part of the lab, our exploration will center on predicting binding residues exclusively through analysis of the protein sequence. Recent advancements in protein language modelling (pLMs) have demonstrated competitive performance compared to state-of-the-art (SOTA) techniques for predicting protein-ligand binding residues.\n",
        "\n",
        "## Structure-based methods\n",
        "In the second part of the lab, we will replicate (with some delta) a well-known method for predicting binding sites called [DeepSite](https://academic.oup.com/bioinformatics/article/33/19/3036/3859178). Subsequently, we will assess the efficacy of this method in comparison to the sequence-based approaches developed in the first part of the lab."
      ]
    },
    {
      "cell_type": "markdown",
      "metadata": {
        "id": "2QEYYx7MLJza"
      },
      "source": [
        "### Download data"
      ]
    },
    {
      "cell_type": "markdown",
      "metadata": {},
      "source": [
        "First, we download the data that will be needed throughout the labs. If you are running this notebook locally, please note that the archive size is about 3.5 GB and the unzipped content takes about 23 GB of disk space. If you are on Windows, some of the commands (such as wget) might not work. In that case, change the commands to Windows equivalents or carry out the jobs (such as downloading the data) outside of the notebook and skip the correponding cell."
      ]
    },
    {
      "cell_type": "code",
      "execution_count": null,
      "metadata": {
        "colab": {
          "base_uri": "https://localhost:8080/"
        },
        "id": "7WRrNvJP4JkO",
        "outputId": "4bcee201-a538-4a88-91e6-6de5e4b71b11"
      },
      "outputs": [],
      "source": [
        "!wget https://bioinformatics.cuni.cz/data/deepdata.tar.gz --no-check-certificate"
      ]
    },
    {
      "cell_type": "markdown",
      "metadata": {
        "id": "wneo6SJkLQKR"
      },
      "source": [
        "Check that `deepdata.tar.gz` was downloaded successfully"
      ]
    },
    {
      "cell_type": "code",
      "execution_count": null,
      "metadata": {
        "colab": {
          "base_uri": "https://localhost:8080/"
        },
        "id": "00f7ZtId4MYw",
        "outputId": "aed27161-f5b5-4143-9ec2-e94b598d74d7"
      },
      "outputs": [],
      "source": [
        "!ls"
      ]
    },
    {
      "cell_type": "code",
      "execution_count": null,
      "metadata": {
        "id": "R5ULxIGL2NOU"
      },
      "outputs": [],
      "source": [
        "!mkdir data"
      ]
    },
    {
      "cell_type": "code",
      "execution_count": null,
      "metadata": {
        "colab": {
          "base_uri": "https://localhost:8080/"
        },
        "id": "PB5hECQE5BS5",
        "outputId": "a10f50c8-e1ec-4ce9-d6b8-ed165b9fece4"
      },
      "outputs": [],
      "source": [
        "!tar -xvzf deepdata.tar.gz -C ./data"
      ]
    },
    {
      "cell_type": "markdown",
      "metadata": {
        "id": "J_5xU61xL8SE"
      },
      "source": [
        "### Data structure\n",
        "1. `ADP-Training.txt`: CSV file; subset of the [Yu dataset](https://ieeexplore.ieee.org/document/6583160) (full dataset can be obtained [here](https://github.com/hamzagamouh/pt-lm-gnn/tree/main/datasets/yu_merged)) containing proteins with regions binding ADP ligand. Train set.\n",
        "2. `ADP-Test.txt`: CSV file; subset of the Yu dataset containing proteins with regions binding ADP. Test set.\n",
        "3. `embeddings` folder: ESM2 embeddings for each protein from the dataset.\n",
        "4. `bert-embeddings` folder: BERT embeddings for proteins from the TRAIN set.\n",
        "5. `voxel-features`: 3D voxels of proteins containing its features. It contains 8 channels: `aromatic`, `hbond_acceptor`, `hbond_donor`, `positive_ionizable`, `negative_ionizable`, `metal`, `occupancies`. The 3D voxels were computed using the [HTMD package](https://software.acellera.com/moleculekit/moleculekit.tools.voxeldescriptors.html).\n",
        "6. `voxel-annotations`: 3D voxels of proteins containing information whether voxel is part of a binding site or not.\n",
        "7. `train_dataset_i`: pre-processed subsets of the train set.\n",
        "8. `test_dataset`: pre-processed subsets of the test set."
      ]
    },
    {
      "cell_type": "code",
      "execution_count": null,
      "metadata": {
        "colab": {
          "base_uri": "https://localhost:8080/"
        },
        "id": "ulPVNySg3vU1",
        "outputId": "b08a09b6-6938-4431-ef2b-1cbfd59d2978"
      },
      "outputs": [],
      "source": [
        "!ls ./data"
      ]
    },
    {
      "cell_type": "code",
      "execution_count": 31,
      "metadata": {
        "id": "rw2IoOrG4C3d"
      },
      "outputs": [],
      "source": [
        "import torch\n",
        "from torch.utils.data import Dataset\n",
        "from torch.utils.data import DataLoader\n",
        "import torch.nn.functional as F\n",
        "import csv\n",
        "from torch import nn\n",
        "from sklearn.utils import class_weight\n",
        "import numpy as np\n",
        "from sklearn import metrics\n",
        "import matplotlib.pyplot as plt\n",
        "\n",
        "torch.manual_seed(0)\n",
        "\n",
        "DATAPATH = '/content/data'\n"
      ]
    },
    {
      "cell_type": "code",
      "execution_count": 3,
      "metadata": {
        "id": "prXnMIeo4C3e"
      },
      "outputs": [],
      "source": [
        "device = 'cuda' if torch.cuda.is_available() else 'cpu'"
      ]
    },
    {
      "cell_type": "code",
      "execution_count": 4,
      "metadata": {
        "colab": {
          "base_uri": "https://localhost:8080/",
          "height": 35
        },
        "id": "5sJ2kCUq4C3f",
        "outputId": "b724c00c-d88a-4b6e-89d4-c841c0defbbb"
      },
      "outputs": [
        {
          "data": {
            "text/plain": [
              "'cuda'"
            ]
          },
          "execution_count": 4,
          "metadata": {},
          "output_type": "execute_result"
        }
      ],
      "source": [
        "device"
      ]
    },
    {
      "cell_type": "markdown",
      "metadata": {
        "id": "AamPCyaQ4C3f"
      },
      "source": [
        "# PART1 - Predicting binding residues with protein language models\n",
        "Here, we use protein embeddings directly to predict the binding residues. Embeddings for each residue from the dataset were precomputed using the ESM-2 protein language model. "
      ]
    },
    {
      "cell_type": "markdown",
      "metadata": {
        "id": "TK4TkDfP4C3g"
      },
      "source": [
        "### Using dataset API to load the dataset"
      ]
    },
    {
      "cell_type": "code",
      "execution_count": 4,
      "metadata": {
        "id": "78V-eWno4C3h"
      },
      "outputs": [],
      "source": [
        "class SequenceYuDataset(Dataset):\n",
        "    def __init__(self, _Xs, _Ys):\n",
        "        Xs_list = None\n",
        "        Ys_list = None\n",
        "        for key in _Xs.keys():\n",
        "            if Xs_list is None:\n",
        "                Xs_list = _Xs[key]\n",
        "                Ys_list = _Ys[key]\n",
        "            else:\n",
        "                Xs_list = np.concatenate((Xs_list,_Xs[key]), axis = 0)\n",
        "                Ys_list = np.concatenate((Ys_list,_Ys[key]), axis = 0)\n",
        "\n",
        "        self.Xs = torch.tensor(Xs_list, dtype=torch.float32)\n",
        "        self.Ys = torch.tensor(Ys_list, dtype=torch.int64)\n",
        "\n",
        "    def __len__(self):\n",
        "        assert len(self.Xs) == len(self.Ys)\n",
        "        return len(self.Xs)\n",
        "\n",
        "    def __getitem__(self, idx):\n",
        "        x = self.Xs[idx]\n",
        "        y = self.Ys[idx]\n",
        "        return x, y\n"
      ]
    },
    {
      "cell_type": "markdown",
      "metadata": {
        "id": "RqGuUmK64C3h"
      },
      "source": [
        "### Proccessing the dataset"
      ]
    },
    {
      "cell_type": "code",
      "execution_count": 5,
      "metadata": {
        "id": "yCcF83BL4C3i"
      },
      "outputs": [],
      "source": [
        "def process_sequence_dataset(annotation_path, embeddings_path):\n",
        "    Xs = {}\n",
        "    Ys = {}\n",
        "    with open(annotation_path) as f:\n",
        "        reader = csv.reader(f, delimiter=\";\")\n",
        "        for row in reader:\n",
        "            id = row[0].lower() + row[1]\n",
        "\n",
        "            # load the precomputed embedding\n",
        "            if id not in Xs:\n",
        "                filename = id + '.npy'\n",
        "                embedding = np.load(f'{embeddings_path}/{filename}')\n",
        "                Xs[id] = embedding\n",
        "\n",
        "            # load the annotations denoting whether particular residue is binding or not\n",
        "            # we use binary annotation: 0=non-binding; 1=binding\n",
        "            if id not in Ys:\n",
        "                Ys[id] = np.zeros(embedding.shape[0])\n",
        "            for residue_idx in [int(residue[1:]) for residue in row[4].split(' ')]:\n",
        "                # Yu dataset has 1-based indexing, so we need to subtract 1\n",
        "                Ys[id][residue_idx - 1] = 1\n",
        "\n",
        "    return Xs, Ys"
      ]
    },
    {
      "cell_type": "code",
      "execution_count": 6,
      "metadata": {
        "id": "1iAND15w4C3i"
      },
      "outputs": [],
      "source": [
        "Xs_train, Ys_train = process_sequence_dataset(f'{DATAPATH}/ADP_Training.txt', f'{DATAPATH}/embeddings')\n",
        "\n",
        "train_dataset = SequenceYuDataset(Xs_train, Ys_train)\n",
        "\n",
        "Xs_test, Ys_test = process_sequence_dataset(f'{DATAPATH}/ADP_Test.txt', f'{DATAPATH}/embeddings')\n",
        "\n",
        "test_dataset = SequenceYuDataset(Xs_test, Ys_test)"
      ]
    },
    {
      "cell_type": "code",
      "execution_count": 7,
      "metadata": {
        "colab": {
          "base_uri": "https://localhost:8080/"
        },
        "id": "-D5MuH3R4C3j",
        "outputId": "02476735-f216-431c-cd4c-f334ecd54325"
      },
      "outputs": [
        {
          "name": "stdout",
          "output_type": "stream",
          "text": [
            "102573\n",
            "20715\n"
          ]
        }
      ],
      "source": [
        "print(len(train_dataset))\n",
        "print(len(test_dataset))"
      ]
    },
    {
      "cell_type": "markdown",
      "metadata": {
        "id": "iH4WLWtm4C3k"
      },
      "source": [
        "### Defining a classifier\n",
        "Create a classifier to predict whether residue is part of a binding site. The neural network has two layers and outputs one value indicating the probability of residue being a part of a binding site."
      ]
    },
    {
      "cell_type": "code",
      "execution_count": 8,
      "metadata": {
        "id": "MCejc5Pq4C3l"
      },
      "outputs": [],
      "source": [
        "DROPOUT = 0.3\n",
        "LAYER_WIDTH = 100\n",
        "ESM2_DIM = 2560\n",
        "class YuClassifier(nn.Module):\n",
        "    def __init__(self, input_dim=ESM2_DIM):\n",
        "        super().__init__()\n",
        "        self.layer_1 = nn.Linear(in_features=input_dim, out_features=LAYER_WIDTH)\n",
        "        self.dropout1 = nn.Dropout(DROPOUT)\n",
        "\n",
        "        self.layer_2 = nn.Linear(in_features=LAYER_WIDTH, out_features=LAYER_WIDTH)\n",
        "        self.dropout2 = nn.Dropout(DROPOUT)\n",
        "\n",
        "        self.layer_3 = nn.Linear(in_features=LAYER_WIDTH, out_features=1)\n",
        "\n",
        "        self.relu = nn.ReLU()\n",
        "\n",
        "    def forward(self, x):\n",
        "      # Intersperse the ReLU activation function between layers\n",
        "       return self.layer_3(self.dropout1(self.relu(self.layer_2(self.dropout1(self.relu(self.layer_1(x)))))))\n"
      ]
    },
    {
      "cell_type": "markdown",
      "metadata": {
        "id": "InG2qa5B4C3l"
      },
      "source": [
        "### Training imbalanced dataset\n",
        "The dataset is heavily imbalanced (only ~5% of all residues are binding residues, the rest is non-binding), therefore we pass the `weight` argument to the loss function. But first, the weights need to be calculated using the `compute_class_weights(...)` function."
      ]
    },
    {
      "cell_type": "code",
      "execution_count": 9,
      "metadata": {
        "colab": {
          "base_uri": "https://localhost:8080/"
        },
        "id": "MG3gI1ea4C3l",
        "outputId": "059f49e1-f4ef-4b72-e57c-99791be89c5e"
      },
      "outputs": [
        {
          "data": {
            "text/plain": [
              "<torch._C.Generator at 0x14718ef0d830>"
            ]
          },
          "execution_count": 9,
          "metadata": {},
          "output_type": "execute_result"
        }
      ],
      "source": [
        "def compute_class_weights(labels):\n",
        "    class_weights=class_weight.compute_class_weight(class_weight='balanced', classes=np.unique(labels), y=labels)\n",
        "    class_weights=torch.tensor(class_weights,dtype=torch.float)\n",
        "    return class_weights\n",
        "\n",
        "def accuracy_fn(y_true, y_pred):\n",
        "    correct = torch.eq(y_true, y_pred).sum().item()\n",
        "    acc = (correct / len(y_pred)) * 100\n",
        "    return acc\n",
        "\n",
        "torch.manual_seed(42)"
      ]
    },
    {
      "cell_type": "markdown",
      "metadata": {
        "id": "FORLi9RI4C3m"
      },
      "source": [
        "### Train loop"
      ]
    },
    {
      "cell_type": "code",
      "execution_count": 10,
      "metadata": {
        "colab": {
          "base_uri": "https://localhost:8080/"
        },
        "id": "cLGzcjgM4C3m",
        "outputId": "72530288-21ca-44d7-a5cc-775625d4abd0"
      },
      "outputs": [
        {
          "name": "stdout",
          "output_type": "stream",
          "text": [
            "Epoch: 0 | Loss: 1.74147, Accuracy: 76.38% | Test loss: 0.98252, AUC: 0.5926255477414623, MCC: 0.041015468738042404\n",
            "Epoch: 10 | Loss: 0.90061, Accuracy: 79.97% | Test loss: 0.56394, AUC: 0.8725498970599733, MCC: 0.33948661942302444\n",
            "Epoch: 20 | Loss: 0.64754, Accuracy: 86.84% | Test loss: 0.48566, AUC: 0.9083190433465002, MCC: 0.38919017381127924\n",
            "Epoch: 30 | Loss: 0.52250, Accuracy: 89.61% | Test loss: 0.44471, AUC: 0.9245670748279059, MCC: 0.43008398385588176\n",
            "Epoch: 40 | Loss: 0.45129, Accuracy: 91.35% | Test loss: 0.41984, AUC: 0.9335417698238664, MCC: 0.44817852666034597\n",
            "Epoch: 50 | Loss: 0.38658, Accuracy: 92.61% | Test loss: 0.40989, AUC: 0.9386236937040913, MCC: 0.47376131556221496\n",
            "Epoch: 60 | Loss: 0.34136, Accuracy: 93.39% | Test loss: 0.40438, AUC: 0.942324545891148, MCC: 0.48269005306971813\n",
            "Epoch: 70 | Loss: 0.29589, Accuracy: 94.18% | Test loss: 0.40677, AUC: 0.9446029642260139, MCC: 0.4975854191696509\n"
          ]
        }
      ],
      "source": [
        "model_0 = YuClassifier().to(device)\n",
        "epochs = 80\n",
        "\n",
        "# Create an optimizer\n",
        "optimizer = torch.optim.Adam(params=model_0.parameters(),\n",
        "                            lr=0.0001)\n",
        "\n",
        "X_train, y_train = train_dataset[:]\n",
        "X_test, y_test = test_dataset[:]\n",
        "\n",
        "# compute class weights (because the dataset is heavily imbalanced)\n",
        "class_weights = compute_class_weights(y_train.numpy()).to(device)\n",
        "# BCEWithLogitsLoss - sigmoid is already built-in!\n",
        "loss_fn = nn.BCEWithLogitsLoss(pos_weight=class_weights[1])\n",
        "\n",
        "X_train, y_train = X_train.to(device), y_train.to(device).float()\n",
        "X_test, y_test = X_test.to(device), y_test.to(device).float()\n",
        "\n",
        "train_losses, test_losses = [], []\n",
        "\n",
        "for epoch in range(epochs):\n",
        "    ### TRAIN\n",
        "    model_0.train()\n",
        "\n",
        "    y_logits = model_0(X_train).squeeze()\n",
        "    y_pred = torch.round(torch.sigmoid(y_logits))\n",
        "\n",
        "    loss = loss_fn(y_logits,\n",
        "                   y_train)\n",
        "    acc = accuracy_fn(y_true=y_train,\n",
        "                      y_pred=y_pred)\n",
        "\n",
        "    train_losses.append(loss.cpu().detach().numpy())\n",
        "\n",
        "    optimizer.zero_grad()\n",
        "\n",
        "    loss.backward()\n",
        "\n",
        "    optimizer.step()\n",
        "\n",
        "    ### TEST\n",
        "    model_0.eval()\n",
        "    with torch.inference_mode():\n",
        "        test_logits = model_0(X_test).squeeze()\n",
        "        test_pred = torch.round(torch.sigmoid(test_logits))\n",
        "\n",
        "        test_loss = loss_fn(test_logits,\n",
        "                            y_test)\n",
        "        test_losses.append(test_loss.cpu().detach().numpy())\n",
        "\n",
        "        # compute metrics on test dataset\n",
        "        test_acc = accuracy_fn(y_true=y_test,\n",
        "                               y_pred=test_pred)\n",
        "        fpr, tpr, thresholds = metrics.roc_curve(y_test.cpu().numpy(), torch.sigmoid(test_logits).cpu().numpy())\n",
        "        roc_auc = metrics.auc(fpr, tpr)\n",
        "\n",
        "        mcc = metrics.matthews_corrcoef(y_test.cpu().numpy(), test_pred.cpu().numpy())\n",
        "    if epoch % 10 == 0:\n",
        "        print(f\"Epoch: {epoch} | Loss: {loss:.5f}, Accuracy: {acc:.2f}% | Test loss: {test_loss:.5f}, AUC: {roc_auc}, MCC: {mcc}\")"
      ]
    },
    {
      "cell_type": "markdown",
      "metadata": {
        "id": "E20NDCiV4C3m"
      },
      "source": [
        "### Comparing train and test loss"
      ]
    },
    {
      "cell_type": "code",
      "execution_count": 11,
      "metadata": {
        "colab": {
          "base_uri": "https://localhost:8080/",
          "height": 447
        },
        "id": "wseAAFwW4C3m",
        "outputId": "96459e3f-100c-4534-b33b-6346209630c5"
      },
      "outputs": [
        {
          "data": {
            "text/plain": [
              "<matplotlib.legend.Legend at 0x1470dd0e3f70>"
            ]
          },
          "execution_count": 11,
          "metadata": {},
          "output_type": "execute_result"
        },
        {
          "data": {
            "image/png": "[encoded data removed]",
            "text/plain": [
              "<Figure size 640x480 with 1 Axes>"
            ]
          },
          "metadata": {},
          "output_type": "display_data"
        }
      ],
      "source": [
        "plt.plot(train_losses,label=\"train loss over epochs\")\n",
        "plt.plot(test_losses,label=\"test loss over epochs\")\n",
        "plt.legend()"
      ]
    },
    {
      "cell_type": "markdown",
      "metadata": {
        "id": "xRZhAS-34C3n"
      },
      "source": [
        "### ROC curve\n",
        "The dataset is imbalanced, therefore it is important to use a more complex metrics for evaluating the model appart from using only the accuracy (if we would predict everything as NON-BINDING, then we would achieve ~95% accuracy as most of the residues are NON-BINDING!)."
      ]
    },
    {
      "cell_type": "code",
      "execution_count": 12,
      "metadata": {
        "colab": {
          "base_uri": "https://localhost:8080/",
          "height": 472
        },
        "id": "3NqQcea64C3n",
        "outputId": "950477ff-3ef4-4a6b-dc7e-8afa42b76d7c"
      },
      "outputs": [
        {
          "data": {
            "image/png": "[encoded data removed]",
            "text/plain": [
              "<Figure size 640x480 with 1 Axes>"
            ]
          },
          "metadata": {},
          "output_type": "display_data"
        }
      ],
      "source": [
        "plt.title('Receiver Operating Characteristic')\n",
        "plt.plot(fpr, tpr, 'b', label = 'AUC = %0.2f' % roc_auc)\n",
        "plt.legend(loc = 'lower right')\n",
        "plt.plot([0, 1], [0, 1],'r--')\n",
        "plt.xlim([0, 1])\n",
        "plt.ylim([0, 1])\n",
        "plt.ylabel('True Positive Rate')\n",
        "plt.xlabel('False Positive Rate')\n",
        "plt.show()"
      ]
    },
    {
      "cell_type": "markdown",
      "metadata": {
        "id": "cL3VdBXB4C3o"
      },
      "source": [
        "# Homework: Part 1\n",
        "Create embeddings based on sequences from the annotation files using a different model (We'll give you hints for ProtBERT, but feel free to use any model of your own choice - ProtT5, Ankh, ...)"
      ]
    },
    {
      "cell_type": "code",
      "execution_count": 39,
      "metadata": {
        "colab": {
          "base_uri": "https://localhost:8080/",
          "height": 301,
          "referenced_widgets": [
            "ebe5bae9282e481588cfaf669af1d3fd",
            "f43dcf9a37be47f08617bd72a38bed22",
            "29698658672a42aba704f733c228e6e5",
            "27d5321fb7074d4c95b00e5e72e71c1d",
            "5b52269eb01c4fd0b26acfaf139d5bc5",
            "34bf2a306b474f61a13370d1c24df46e",
            "39a7aa25c23943c8b8c946bc023d0543",
            "a5ebceb281ab47498ba3a43356b4afae",
            "392dfb76d6ec444fa2d3988be30894a7",
            "320ed206b4d24ef5978e718fef49106a",
            "77b2e4ce3af24db4be7411b5aa52089a",
            "f8b9f61ea7ec442bbb379d0cf520c4e3",
            "362800dc75ae46feb4607786a2af449f",
            "bb2d619229e6412aa6812135e18b7916",
            "baf4b0e07218458486493c4d34dc4a40",
            "79b39f93667748a9b05a25c1646814ec",
            "2a2572fb22494efb87dce6f5740ee24c",
            "1ee42218b00b4149b47d6750108754b8",
            "f5b8870f03a14a678ba65d490aa8cb86",
            "f4452fd8a23545ecac90e8c7aa208a5d",
            "3a326afe59864ef08ba2dee2c3fa63ae",
            "13665ce45c334a57b3089eb002952933",
            "a5569f20545142949f215f445c521ada",
            "a69b445f04c94b098fa3a399f136b0de",
            "2231ef0486234cbe9376f05efccbf96a",
            "a7c91923fe374b29ac07b3b60a6c6f4e",
            "9a82ca4d425f447fa96e2129bffb2b5f",
            "b75b04f866e041b7a0261af4afc42c5c",
            "60da8094e11044aa852d52f1154462e3",
            "6c4b220b84944c1c8cc1ac06fec86757",
            "99d013b65c8d4adab38df90e09e99bdd",
            "af69ad5155a74c80b7a51d56022df514",
            "8b6db5ff87e049bfa8b31771b4c4f50b",
            "ca394cc581cb4932b2bf7d606961fccd",
            "1e57123d7d4f427ea4cbf922071e8332",
            "c4e2763cd8184ddab29a05b5905149d0",
            "6de95f5af4774338b4716789b4e45766",
            "16f0d0e957474d9bba068d13a6dd5a51",
            "7490b10a8bcb49269d3d6ca66d807ab0",
            "e17fb088b6b946a98e47d0e6f712fb5b",
            "11eb770c66894cf4abbcddd4e2c702ce",
            "d16ca9c95e854160a225b1e1f3033bae",
            "10dcec6bdd924c48907f30ce10963cef",
            "31f0a8a8b6da4a2881f69ba2a72b6ed0",
            "53dea7b41c9d4baba2c2105f0b3f86ed",
            "94f11971edb744af818f278123f3823c",
            "249a9669b7054e8198e035d74b767613",
            "4049bffa9225450db80bbd8d64154484",
            "eb21728d209f4c318c7c9f64dab6c00a",
            "23a7fce7225f438191ea6da36e6b48d8",
            "8e871644c25f40d09b13d801f737e7f7",
            "d4759799b6df417da6b40acd01968926",
            "42d5af01a2614dca8d697bd64f3423c0",
            "5841f5dc740447e38b190979cc8e4c12",
            "dfb1b1c69ac740628db9e6146e718f64"
          ]
        },
        "id": "sR8aHxRM4C3o",
        "outputId": "36d0007f-b20e-4cea-abf1-b29fd161a5f1"
      },
      "outputs": [],
      "source": [
        "from transformers import BertModel, BertTokenizer\n",
        "\n",
        "tokenizer = BertTokenizer.from_pretrained(\"Rostlab/prot_bert\", do_lower_case=False )\n",
        "model = BertModel.from_pretrained(\"Rostlab/prot_bert\")"
      ]
    },
    {
      "cell_type": "markdown",
      "metadata": {
        "id": "hKOia-3R4C3o"
      },
      "source": [
        "### Try the model on an example sequence"
      ]
    },
    {
      "cell_type": "code",
      "execution_count": 40,
      "metadata": {
        "id": "4jC16h-N4C3o"
      },
      "outputs": [],
      "source": [
        "protein_sequences = ['MKALCLLLLPVLGLLVSSKTLCSMEEAINERIQEVAGSLIFRAISSIGLECQSVTSRGDLATCPRGFAVTGCTCGSACGSWDVRAETTCHCQCAGMDWTGARCCRVQPLEHHHHHH',\n",
        "      'GSHMSLFDFFKNKGSAATATDRLKLILAKERTLNLPYMEEMRKEIIAVIQKYTKSSDIHFKTLDSNQSVETIEVEIILPR']\n",
        "\n",
        "# the ProtBert takes aminoacids separated by a space as an input\n",
        "# this snippet adds a space between each letter of the sequence\n",
        "spaced_protein_sequences = [seq.replace(\"\", \" \")[1: -1] for seq in protein_sequences]\n",
        "\n",
        "# generate an embedding\n",
        "output = []\n",
        "for seq in spaced_protein_sequences:\n",
        "    encoded_input = tokenizer(seq, return_tensors='pt')\n",
        "\n",
        "    # WARNING: you need to strip the embedding of the first and last vector, as those are the starting and terminating signs!\n",
        "    output.append(model(**encoded_input).last_hidden_state.detach().numpy()[0][1:-1])"
      ]
    },
    {
      "cell_type": "code",
      "execution_count": 41,
      "metadata": {
        "colab": {
          "base_uri": "https://localhost:8080/"
        },
        "id": "YH0EmW484C3o",
        "outputId": "7d8aee56-b9be-4406-b150-4b9ce0076235"
      },
      "outputs": [
        {
          "name": "stdout",
          "output_type": "stream",
          "text": [
            "Embedding shape: (116, 1024), sequence length: 116\n",
            "Embedding shape: (80, 1024), sequence length: 80\n"
          ]
        }
      ],
      "source": [
        "# SANITY CHECK: length of the sequence matches the number of generated embeddings\n",
        "for i, seq in zip(output, protein_sequences):\n",
        "    print(f'Embedding shape: {i.shape}, sequence length: {len(seq)}')"
      ]
    },
    {
      "cell_type": "markdown",
      "metadata": {
        "id": "_UOvlZQE4C3p"
      },
      "source": [
        "### TASK 1.\n",
        "Use the BERT model to generate embeddings for the test set of the Yu dataset. To reduce the time needed for this exercise, we already precomputed the BERT embeddings for the proteins from the train set.\n",
        "\n",
        "\n",
        "You can actually use any protein language model if you feel like it. Just keep in mind, that you need to compute the embeddings for both the train AND test sets, as we only precomputed the train embeddings for the BERT model.\n",
        "\n",
        "\n",
        "Hints:\n",
        "1. The sequences can be found in the CSV files `ADP_Training.txt`, `ADP_Test.txt`.\n",
        "2. Don't forget to strip the embedding of the first and last vector, as those are the starting and terminating signs."
      ]
    },
    {
      "cell_type": "code",
      "execution_count": 16,
      "metadata": {
        "id": "ifdV7rE24C3p"
      },
      "outputs": [],
      "source": [
        "def get_sequences(annotation_path):\n",
        "    sequences = []\n",
        "    with open(annotation_path) as f:\n",
        "        reader = csv.reader(f, delimiter=\";\")\n",
        "        for row in reader:\n",
        "            id = row[0].lower() + row[1]\n",
        "            sequence = row[5]\n",
        "            sequences.append((id, sequence))\n",
        "\n",
        "    return sequences\n",
        "\n",
        "def create_embeddings(sequences, output_path):\n",
        "    with torch.no_grad():\n",
        "        for sequence in sequences:\n",
        "            print(f'Process {sequence[0]} ...')\n",
        "            encoded_input = tokenizer(sequence[1].replace(\"\", \" \")[1: -1], return_tensors='pt')\n",
        "            embedding = model(**encoded_input).last_hidden_state.detach().numpy()[0][1:-1]\n",
        "\n",
        "            assert len(sequence[1]) == embedding.shape[0]\n",
        "            with open(f'{output_path}/{sequence[0]}.npy', 'wb') as f:\n",
        "                np.save(f, embedding)"
      ]
    },
    {
      "cell_type": "code",
      "execution_count": 17,
      "metadata": {
        "colab": {
          "base_uri": "https://localhost:8080/"
        },
        "id": "wl6vS2Og4C3p",
        "outputId": "85059518-865d-4d7e-b14b-8273633936e4"
      },
      "outputs": [
        {
          "name": "stdout",
          "output_type": "stream",
          "text": [
            "reading TEST sequences ...\n",
            "generating TRAIN embeddings ...\n",
            "Process 3smsA ...\n",
            "Process 4dzzA ...\n",
            "Process 4fcwA ...\n",
            "Process 3zvmA ...\n",
            "Process 3vmmA ...\n",
            "Process 3qffA ...\n",
            "Process 3r03A ...\n",
            "Process 3vufA ...\n",
            "Process 3zznD ...\n",
            "Process 4b0tA ...\n",
            "Process 4b0tA ...\n",
            "Process 3qhwA ...\n",
            "Process 3ty5B ...\n",
            "Process 4ag5A ...\n",
            "Process 3qurA ...\n",
            "Process 3rboA ...\n",
            "Process 3qc9D ...\n",
            "Process 4ehyA ...\n",
            "Process 4a14A ...\n",
            "Process 3rerA ...\n",
            "Process 3rerA ...\n",
            "Process 4edhA ...\n",
            "Process 4dcaA ...\n",
            "Process 3ux8A ...\n",
            "Process 3tlxA ...\n",
            "Process 3viuA ...\n",
            "Process 3vkgA ...\n",
            "Process 3vkgA ...\n",
            "Process 3vkgA ...\n",
            "Process 3vkgA ...\n",
            "Process 3ugjA ...\n",
            "Process 3rusA ...\n",
            "Process 3tzlA ...\n",
            "Process 3b1nA ...\n",
            "Process 3rfcA ...\n",
            "Process 3rreA ...\n",
            "Process 3rreA ...\n",
            "Process 3rreA ...\n",
            "Process 3t7aA ...\n",
            "Process 4fd2B ...\n",
            "Process 3auyA ...\n",
            "Process 3t4nC ...\n",
            "Process 3vetA ...\n",
            "Process 2y8lE ...\n",
            "Process 3thxA ...\n",
            "Process 3r9iA ...\n",
            "Process 3r9iA ...\n",
            "Process 4ehtA ...\n",
            "Process 3uboA ...\n",
            "Process 3tinA ...\n",
            "Process 3ttcA ...\n",
            "Process 3ttcA ...\n",
            "Process 3qbwA ...\n",
            "Process 4e1cA ...\n",
            "Process 3qovA ...\n"
          ]
        }
      ],
      "source": [
        "print(\"reading TEST sequences ...\")\n",
        "test_sequences = get_sequences(f'{DATAPATH}/ADP_Test.txt')\n",
        "print(\"generating TRAIN embeddings ...\")\n",
        "create_embeddings(test_sequences, f'{DATAPATH}/bert-embeddings')"
      ]
    },
    {
      "cell_type": "code",
      "execution_count": 18,
      "metadata": {
        "colab": {
          "base_uri": "https://localhost:8080/"
        },
        "id": "TjtXlAUIPG02",
        "outputId": "5677d77b-2c7e-40f2-f05b-aa65498b687a"
      },
      "outputs": [
        {
          "name": "stdout",
          "output_type": "stream",
          "text": [
            "1a9xA.npy  1mmaA.npy  1xmvA.npy  2hehA.npy  2w5aA.npy  3fe2A.npy  3p4xA.npy\n",
            "1ao0A.npy  1mp8A.npy  1xtjA.npy  2hgsA.npy  2w8rA.npy  3fh0A.npy  3pdtA.npy\n",
            "1b62A.npy  1mq4A.npy  1xw4X.npy  2hmfA.npy  2we5A.npy  3fi8A.npy  3pffA.npy\n",
            "1b6sA.npy  1mwmA.npy  1xx6A.npy  2hmvA.npy  2wqnA.npy  3fmoB.npy  3pnlB.npy\n",
            "1byqA.npy  1n08A.npy  1y63A.npy  2hv7B.npy  2ww4A.npy  3fwrA.npy  3pygA.npy\n",
            "1cnfA.npy  1njfC.npy  1yp4A.npy  2i5bA.npy  2wwfA.npy  3fwyA.npy  3qbwA.npy\n",
            "1czaN.npy  1nksF.npy  1yqtA.npy  2i8cA.npy  2wzbA.npy  3g15A.npy  3qc9D.npy\n",
            "1dadA.npy  1nvaA.npy  1z2nX.npy  2if8A.npy  2x58A.npy  3g2fA.npy  3qffA.npy\n",
            "1djnA.npy  1ny3A.npy  1z59A.npy  2io8A.npy  2xamA.npy  3ge1A.npy  3qhwA.npy\n",
            "1e2dA.npy  1o0hA.npy  1z6tA.npy  2iuuA.npy  2xauA.npy  3go6B.npy  3qovA.npy\n",
            "1e3mA.npy  1o51A.npy  1zarA.npy  2iw3A.npy  2xd4A.npy  3gr4A.npy  3qurA.npy\n",
            "1e4eA.npy  1ohbA.npy  1zthA.npy  2iyvA.npy  2xgjA.npy  3gviA.npy  3r03A.npy\n",
            "1e8hA.npy  1oxuA.npy  1zxnA.npy  2j0wA.npy  2xjaA.npy  3h0lB.npy  3r9iA.npy\n",
            "1ea6A.npy  1p5zB.npy  2a2cA.npy  2jcbA.npy  2xocA.npy  3hfwA.npy  3rboA.npy\n",
            "1ehiA.npy  1p72A.npy  2ad5A.npy  2jfgA.npy  2y8lE.npy  3hy6A.npy  3rerA.npy\n",
            "1eqmA.npy  1pfkA.npy  2akoA.npy  2jgvB.npy  2yx6B.npy  3hyoA.npy  3rfcA.npy\n",
            "1f9vA.npy  1pkgA.npy  2awnA.npy  2jlxB.npy  2zfiA.npy  3hz6A.npy  3rreA.npy\n",
            "1fnnA.npy  1q8yA.npy  2axnA.npy  2nunA.npy  2zj5A.npy  3i0oA.npy  3rusA.npy\n",
            "1fp6A.npy  1qf9A.npy  2b9hA.npy  2o0jA.npy  2zpaA.npy  3i33A.npy  3smsA.npy\n",
            "1fwkA.npy  1r0yA.npy  2bejA.npy  2o8bB.npy  3a0tA.npy  3i73A.npy  3t4nC.npy\n",
            "1g3qA.npy  1r6bX.npy  2bfrA.npy  2obmA.npy  3a1dA.npy  3icsB.npy  3t7aA.npy\n",
            "1g41A.npy  1rfvA.npy  2bkkA.npy  2ojwA.npy  3a7jA.npy  3in1A.npy  3thxA.npy\n",
            "1g6hA.npy  1rkdA.npy  2bvcA.npy  2olcA.npy  3akkA.npy  3io3A.npy  3tinA.npy\n",
            "1g6oA.npy  1s4eA.npy  2c2aA.npy  2oljA.npy  3auyA.npy  3k1jA.npy  3tlxA.npy\n",
            "1gc5A.npy  1sq5A.npy  2c31A.npy  2oxcA.npy  3b1nA.npy  3k5iA.npy  3ttcA.npy\n",
            "1gkiA.npy  1svlA.npy  2c98A.npy  2p9iA.npy  3bf1A.npy  3kalA.npy  3ty5B.npy\n",
            "1gkzA.npy  1sxjE.npy  2cdnA.npy  2pl3A.npy  3bfnA.npy  3kh5A.npy  3tzlA.npy\n",
            "1gsaA.npy  1t6xA.npy  2cduA.npy  2po0A.npy  3bfvA.npy  3kjiA.npy  3uboA.npy\n",
            "1gzfC.npy  1th8A.npy  2ch6A.npy  2pywA.npy  3brbA.npy  3ko5A.npy  3ugjA.npy\n",
            "1h8eC.npy  1ty8A.npy  2cn5A.npy  2q14A.npy  3c4nA.npy  3l86A.npy  3ux8A.npy\n",
            "1h8eE.npy  1tzdA.npy  2cnqA.npy  2q2rA.npy  3c9uA.npy  3l8kA.npy  3vetA.npy\n",
            "1hi5A.npy  1u0jA.npy  2cvxA.npy  2qb5A.npy  3copA.npy  3lctA.npy  3viuA.npy\n",
            "1htwA.npy  1u3fA.npy  2d0oA.npy  2qenA.npy  3cr3A.npy  3ll3B.npy  3vkgA.npy\n",
            "1hw8A.npy  1u6rA.npy  2d2fA.npy  2qr1B.npy  3d2rA.npy  3ll9A.npy  3vmmA.npy\n",
            "1i58B.npy  1uc9A.npy  2d7dA.npy  2qsyA.npy  3d36A.npy  3llmA.npy  3vufA.npy\n",
            "1iahA.npy  1uj2A.npy  2dcnA.npy  2qv7A.npy  3d5wA.npy  3lrtA.npy  3zvmA.npy\n",
            "1ihuA.npy  1uw1A.npy  2dr3A.npy  2qz4A.npy  3dc4A.npy  3lvvA.npy  3zznD.npy\n",
            "1in4A.npy  1v1aA.npy  2dyaB.npy  2r87A.npy  3dkpA.npy  3mesB.npy  4a14A.npy\n",
            "1iowA.npy  1va6A.npy  2e2pA.npy  2rd5A.npy  3dlsA.npy  3mleA.npy  4ag5A.npy\n",
            "1iqpA.npy  1vhlA.npy  2ewvA.npy  2rioA.npy  3dsrA.npy  3mufA.npy  4b0tA.npy\n",
            "1j1cA.npy  1vtkA.npy  2f1jA.npy  2shkB.npy  3dzvA.npy  3n3oB.npy  4dcaA.npy\n",
            "1j6zA.npy  1w5tC.npy  2ff7A.npy  2uytA.npy  3ec2A.npy  3n83A.npy  4dzzA.npy\n",
            "1jbpE.npy  1w78A.npy  2fnaA.npy  2v1xA.npy  3egiA.npy  3nbxX.npy  4e1cA.npy\n",
            "1jj7A.npy  1we3A.npy  2fsiA.npy  2v8pA.npy  3ehhA.npy  3ncrA.npy  4edhA.npy\n",
            "1k3cA.npy  1wnlA.npy  2fsnA.npy  2vhjA.npy  3eqiA.npy  3nuaA.npy  4ehtA.npy\n",
            "1kjqA.npy  1wpgA.npy  2fv7A.npy  2vosA.npy  3ex7C.npy  3nwnA.npy  4ehyA.npy\n",
            "1l8qA.npy  1x3mA.npy  2gr0A.npy  2w41A.npy  3ez2A.npy  3ocmA.npy  4fcwA.npy\n",
            "1ltqA.npy  1x88A.npy  2grjA.npy  2w4jA.npy  3f61A.npy  3ohrA.npy  4fd2B.npy\n",
            "1m7gB.npy  1xjkA.npy  2h1fA.npy  2w58A.npy  3fd6A.npy  3ouzA.npy\n"
          ]
        }
      ],
      "source": [
        "!ls {DATAPATH}/bert-embeddings"
      ]
    },
    {
      "cell_type": "code",
      "execution_count": 19,
      "metadata": {},
      "outputs": [
        {
          "data": {
            "text/plain": [
              "(351, 1024)"
            ]
          },
          "execution_count": 19,
          "metadata": {},
          "output_type": "execute_result"
        }
      ],
      "source": [
        "np.load(f'{DATAPATH}/bert-embeddings/3smsA.npy').shape"
      ]
    },
    {
      "cell_type": "markdown",
      "metadata": {
        "id": "OtOszb1P4C3q"
      },
      "source": [
        "### TASK 2.\n",
        "Use the generated embeddings to train a model for the binding site prediction task, similarly as was shown earlier with the ESM-2 embeddings.\n",
        "\n",
        "1. train the model using your novel embeddings\n",
        "2. create the train/test loss graph\n",
        "3. create the ROC curve: print the ROC curve for both models (the trained `YuClassifier` model and your new model)\n",
        "\n",
        "\n",
        "Hints:\n",
        "1. You can reuse the code from earlier: `YuClassifier` class, `proccess_dataset(...)`, the train loop or the code for creating the plots.\n",
        "2. To train the model on ESM-2 using 80 epochs was enough. However, in the case of ProtBert, you might need to increase the number of epochs to train the model properly.\n",
        "3. Don't worry if the ProtBert results don't match the ESM-2 results. As the ESM-2 model is more complex than the ProtBert model, it is expected achieve better results. On the other hand, generating ProtBert embeddings isn't as time-consuming as generating ESM-2 embeddings."
      ]
    },
    {
      "cell_type": "code",
      "execution_count": 20,
      "metadata": {
        "id": "FRzp9w3H4C3q"
      },
      "outputs": [],
      "source": [
        "Xs_train, Ys_train = process_sequence_dataset(f'{DATAPATH}/ADP_Training.txt', f'{DATAPATH}/bert-embeddings')\n",
        "train_dataset = SequenceYuDataset(Xs_train, Ys_train)\n",
        "\n",
        "Xs_test, Ys_test = process_sequence_dataset(f'{DATAPATH}/ADP_Test.txt', f'{DATAPATH}/bert-embeddings')\n",
        "test_dataset = SequenceYuDataset(Xs_test, Ys_test)"
      ]
    },
    {
      "cell_type": "code",
      "execution_count": 21,
      "metadata": {
        "colab": {
          "base_uri": "https://localhost:8080/"
        },
        "id": "RLMUIOT24C3q",
        "outputId": "8de8b8eb-91d3-4aa4-873a-2b7d0b85610a"
      },
      "outputs": [
        {
          "name": "stdout",
          "output_type": "stream",
          "text": [
            "Epoch: 0 | Loss: 0.98515, Accuracy: 96.26% | Test loss: 0.93534, AUC: 0.4944527425233523, MCC: 0.0\n",
            "Epoch: 10 | Loss: 0.97712, Accuracy: 96.26% | Test loss: 0.92689, AUC: 0.6325810955201543, MCC: 0.0\n",
            "Epoch: 20 | Loss: 0.96784, Accuracy: 96.26% | Test loss: 0.91766, AUC: 0.671475523356031, MCC: 0.0\n",
            "Epoch: 30 | Loss: 0.95703, Accuracy: 96.26% | Test loss: 0.90678, AUC: 0.6852035904289974, MCC: 0.0\n",
            "Epoch: 40 | Loss: 0.94341, Accuracy: 96.26% | Test loss: 0.89356, AUC: 0.6947748908240041, MCC: 0.0\n",
            "Epoch: 50 | Loss: 0.92818, Accuracy: 96.26% | Test loss: 0.87770, AUC: 0.7058339259055186, MCC: 0.0\n",
            "Epoch: 60 | Loss: 0.91007, Accuracy: 96.26% | Test loss: 0.85929, AUC: 0.7194073409455591, MCC: 0.0786982333921994\n",
            "Epoch: 70 | Loss: 0.88964, Accuracy: 96.06% | Test loss: 0.83869, AUC: 0.7339839465679833, MCC: 0.15202393216363325\n",
            "Epoch: 80 | Loss: 0.86905, Accuracy: 95.59% | Test loss: 0.81651, AUC: 0.7485844536360353, MCC: 0.18943269236356564\n",
            "Epoch: 90 | Loss: 0.84700, Accuracy: 94.80% | Test loss: 0.79333, AUC: 0.761681924624818, MCC: 0.20452396292548172\n",
            "Epoch: 100 | Loss: 0.82417, Accuracy: 93.80% | Test loss: 0.77000, AUC: 0.7734656723863844, MCC: 0.22111238871001934\n",
            "Epoch: 110 | Loss: 0.80220, Accuracy: 92.87% | Test loss: 0.74746, AUC: 0.78421071246412, MCC: 0.22048800082122033\n",
            "Epoch: 120 | Loss: 0.78051, Accuracy: 91.99% | Test loss: 0.72627, AUC: 0.7942323056704504, MCC: 0.24183617234351695\n",
            "Epoch: 130 | Loss: 0.75684, Accuracy: 91.28% | Test loss: 0.70668, AUC: 0.8032775881133123, MCC: 0.24547321181596946\n",
            "Epoch: 140 | Loss: 0.73793, Accuracy: 90.68% | Test loss: 0.68899, AUC: 0.8111276121264468, MCC: 0.24991467369135822\n",
            "Epoch: 150 | Loss: 0.71947, Accuracy: 90.21% | Test loss: 0.67336, AUC: 0.817699727851141, MCC: 0.25645041868845325\n",
            "Epoch: 160 | Loss: 0.70242, Accuracy: 90.01% | Test loss: 0.65996, AUC: 0.8231755415985673, MCC: 0.26960626202651383\n",
            "Epoch: 170 | Loss: 0.68496, Accuracy: 89.64% | Test loss: 0.64876, AUC: 0.8276218061600205, MCC: 0.27916067681351336\n",
            "Epoch: 180 | Loss: 0.66995, Accuracy: 89.41% | Test loss: 0.63965, AUC: 0.8309433252793156, MCC: 0.28004490044453656\n",
            "Epoch: 190 | Loss: 0.65826, Accuracy: 89.31% | Test loss: 0.63223, AUC: 0.8335629535038699, MCC: 0.28260747949874165\n",
            "Epoch: 200 | Loss: 0.64419, Accuracy: 89.32% | Test loss: 0.62648, AUC: 0.8355927521286061, MCC: 0.28374644154881773\n",
            "Epoch: 210 | Loss: 0.63407, Accuracy: 89.19% | Test loss: 0.62195, AUC: 0.8371881177797715, MCC: 0.2833774778253918\n",
            "Epoch: 220 | Loss: 0.62354, Accuracy: 89.19% | Test loss: 0.61858, AUC: 0.8382415684113729, MCC: 0.2854188460603649\n",
            "Epoch: 230 | Loss: 0.61821, Accuracy: 89.17% | Test loss: 0.61596, AUC: 0.8390631154529175, MCC: 0.2871410808520012\n",
            "Epoch: 240 | Loss: 0.60917, Accuracy: 89.13% | Test loss: 0.61407, AUC: 0.8396996310540091, MCC: 0.29013911320372865\n"
          ]
        }
      ],
      "source": [
        "BERT_DIM = 1024\n",
        "\n",
        "model_1 = YuClassifier(input_dim=BERT_DIM).to(device)\n",
        "epochs = 250\n",
        "\n",
        "# Create an optimizer\n",
        "optimizer = torch.optim.Adam(params=model_1.parameters(),\n",
        "                            lr=0.0001)\n",
        "\n",
        "X_train, y_train = train_dataset[:]\n",
        "X_test, y_test = test_dataset[:]\n",
        "\n",
        "# compute class weights (because the dataset is heavily imbalanced)\n",
        "class_weights = compute_class_weights(y_train.numpy()).to(device)\n",
        "# BCEWithLogitsLoss - sigmoid is already built-in!\n",
        "loss_fn = nn.BCEWithLogitsLoss(pos_weight=class_weights[1])\n",
        "\n",
        "X_train, y_train = X_train.to(device), y_train.to(device).float()\n",
        "X_test, y_test = X_test.to(device), y_test.to(device).float()\n",
        "\n",
        "train_losses_1, test_losses_1 = [], []\n",
        "\n",
        "for epoch in range(epochs):\n",
        "    ### TRAIN\n",
        "    model_1.train()\n",
        "\n",
        "    y_logits = model_1(X_train).squeeze()\n",
        "    y_pred = torch.round(torch.sigmoid(y_logits))\n",
        "\n",
        "    loss = loss_fn(y_logits,\n",
        "                   y_train)\n",
        "    acc = accuracy_fn(y_true=y_train,\n",
        "                      y_pred=y_pred)\n",
        "\n",
        "    train_losses_1.append(loss.cpu().detach().numpy())\n",
        "\n",
        "    optimizer.zero_grad()\n",
        "\n",
        "    loss.backward()\n",
        "\n",
        "    optimizer.step()\n",
        "\n",
        "    ### TEST\n",
        "    model_1.eval()\n",
        "    with torch.inference_mode():\n",
        "        test_logits = model_1(X_test).squeeze()\n",
        "        test_pred = torch.round(torch.sigmoid(test_logits))\n",
        "\n",
        "        test_loss = loss_fn(test_logits,\n",
        "                            y_test)\n",
        "        test_losses_1.append(test_loss.cpu().detach().numpy())\n",
        "\n",
        "        test_acc = accuracy_fn(y_true=y_test,\n",
        "                               y_pred=test_pred)\n",
        "        fpr_1, tpr_1, thresholds = metrics.roc_curve(y_test.cpu().numpy(), torch.sigmoid(test_logits).cpu().numpy())\n",
        "        roc_auc_1 = metrics.auc(fpr_1, tpr_1)\n",
        "\n",
        "        mcc = metrics.matthews_corrcoef(y_test.cpu().numpy(), test_pred.cpu().numpy())\n",
        "    if epoch % 10 == 0:\n",
        "        print(f\"Epoch: {epoch} | Loss: {loss:.5f}, Accuracy: {acc:.2f}% | Test loss: {test_loss:.5f}, AUC: {roc_auc_1}, MCC: {mcc}\")"
      ]
    },
    {
      "cell_type": "code",
      "execution_count": 22,
      "metadata": {
        "colab": {
          "base_uri": "https://localhost:8080/",
          "height": 447
        },
        "id": "tVN2X4qv4C3r",
        "outputId": "48c0218a-fcc4-4f4c-ae11-a8ff055b98b6"
      },
      "outputs": [
        {
          "data": {
            "text/plain": [
              "<matplotlib.legend.Legend at 0x14704b84c910>"
            ]
          },
          "execution_count": 22,
          "metadata": {},
          "output_type": "execute_result"
        },
        {
          "data": {
            "image/png": "[encoded data removed]",
            "text/plain": [
              "<Figure size 640x480 with 1 Axes>"
            ]
          },
          "metadata": {},
          "output_type": "display_data"
        }
      ],
      "source": [
        "plt.plot(train_losses_1,label=\"train loss over epochs\")\n",
        "plt.plot(test_losses_1,label=\"test loss over epochs\")\n",
        "plt.legend()"
      ]
    },
    {
      "cell_type": "code",
      "execution_count": 23,
      "metadata": {
        "colab": {
          "base_uri": "https://localhost:8080/",
          "height": 472
        },
        "id": "243mt0qu4C3r",
        "outputId": "f761409b-cb5e-4551-d268-8a68f72f4165"
      },
      "outputs": [
        {
          "data": {
            "image/png": "[encoded data removed]",
            "text/plain": [
              "<Figure size 640x480 with 1 Axes>"
            ]
          },
          "metadata": {},
          "output_type": "display_data"
        }
      ],
      "source": [
        "plt.title('Receiver Operating Characteristic')\n",
        "plt.plot(fpr, tpr, 'b', label = 'ESM-2: AUC = %0.2f' % roc_auc)\n",
        "plt.plot(fpr_1, tpr_1, 'y', label = 'ProtBERT: AUC = %0.2f' % roc_auc_1)\n",
        "plt.legend(loc = 'lower right')\n",
        "plt.plot([0, 1], [0, 1],'r--')\n",
        "plt.xlim([0, 1])\n",
        "plt.ylim([0, 1])\n",
        "plt.ylabel('True Positive Rate')\n",
        "plt.xlabel('False Positive Rate')\n",
        "plt.show()"
      ]
    },
    {
      "cell_type": "markdown",
      "metadata": {},
      "source": [
        "### TASK\n",
        "Don't forget to delete the data from the last task! Take a look if you don't keep any unnecessary/useless data in the memory."
      ]
    },
    {
      "cell_type": "code",
      "execution_count": 24,
      "metadata": {
        "colab": {
          "base_uri": "https://localhost:8080/"
        },
        "id": "kaW2UdQSCbWG",
        "outputId": "433412eb-9e8e-45b9-b445-16cff1ba865e"
      },
      "outputs": [
        {
          "data": {
            "text/plain": [
              "8137"
            ]
          },
          "execution_count": 24,
          "metadata": {},
          "output_type": "execute_result"
        }
      ],
      "source": [
        "import gc\n",
        "\n",
        "del Xs_train, Ys_train, train_dataset, Xs_test, Ys_test, test_dataset\n",
        "del tokenizer, model\n",
        "del model_0\n",
        "\n",
        "gc.collect()"
      ]
    },
    {
      "cell_type": "markdown",
      "metadata": {
        "id": "tvGQcIN64C3s"
      },
      "source": [
        "# PART 2 - Predicting binding residues from protein structure\n",
        "\n",
        "In the second part, we will use the 3D structural information to predict binding regions. In the provided data, there are two folders - `voxel-features` with 3D `1x1x1 A^3` voxels, each containing eight channels (`hydrophobic`, `aromatic`, `hbond_acceptor`, `hbond_donor`, `positive_ionizable`, `negative_ionizable`, `metal`, `occupancies`) and `voxel-annotations` specifying the binding regions in each protein from the dataset. Overall,  the voxels form a 3D grid for each protein. The voxels were generated using the [HTMD package](https://software.acellera.com/moleculekit/moleculekit.tools.voxeldescriptors.html). However, because installing & running the package can be time-consuming, we prepared the voxels in advance.\n",
        "\n",
        "The whole exercise is loosely based on the [DeepSite method](https://academic.oup.com/bioinformatics/article/33/19/3036/3859178).\n",
        "\n",
        "## Overview of the method\n",
        "\n",
        "We split the 3D grid into `32x32x32` windows using `step=16`. Then, we train a CNN using the extracted 3D windows to predict, whether the window is part of a binding region or not.\n",
        "\n",
        "### Positive example\n",
        "In our scenario, the `32x32x32` window is considered positive if at least one atom is derived from a binding residue. That's a significant simplification compared to the original DeepSite paper where the window is considered positive if its geometric center is closer than `4 A` to the pocket geometric center and negative otherwise. However, the simplified approach is sufficient for our purposes.\n",
        "\n",
        "\n",
        "### Parameters\n",
        "In real-world tools (like DeepSite), we might find out that the `WINDOW_SIZE` and `WINDOW_STEP` parameters might be finer (smaller window size with smaller steps). However, to reduce the computation time and resources, we use coarser windows here."
      ]
    },
    {
      "cell_type": "code",
      "execution_count": 25,
      "metadata": {
        "id": "rJhEclLx8hqH"
      },
      "outputs": [],
      "source": [
        "import gc\n",
        "\n",
        "NUMBER_OF_SPLITS = 8\n",
        "\n",
        "WINDOW_SIZE = 32\n",
        "WINDOW_STEP = 16\n",
        "\n",
        "# splits the protein into 3D windows\n",
        "def sliding_window_3d(vector):\n",
        "    vector = vector.unfold(1,WINDOW_SIZE,WINDOW_STEP)\n",
        "    vector = vector.unfold(2,WINDOW_SIZE,WINDOW_STEP)\n",
        "    vector = vector.unfold(3,WINDOW_SIZE,WINDOW_STEP)\n",
        "    return vector.flatten(1, 3)\n",
        "\n",
        "\n",
        "def pad_and_sliding_window_3d(x, y):\n",
        "    pad1 = WINDOW_SIZE - x.shape[3] % WINDOW_SIZE if WINDOW_SIZE - x.shape[3] % WINDOW_SIZE > 0 else 0\n",
        "    pad2 = WINDOW_SIZE - x.shape[2] % WINDOW_SIZE if WINDOW_SIZE - x.shape[2] % WINDOW_SIZE > 0 else 0\n",
        "    pad3 = WINDOW_SIZE - x.shape[1] % WINDOW_SIZE if WINDOW_SIZE - x.shape[1] % WINDOW_SIZE > 0 else 0\n",
        "\n",
        "    # to further reduce the resources, we use only float16. It would be ideal to use float64, but the limits from google colab environment do not let us to do that.\n",
        "    # if you have access to larger resources, you can try out float64 and compare the performance\n",
        "    x = torch.tensor(x, dtype=torch.float16)\n",
        "    y = torch.tensor(y, dtype=torch.int8)\n",
        "\n",
        "    # add padding to the voxel grid\n",
        "    x = F.pad(x, (int(pad1 / 2), int(pad1 / 2) + (pad1 % 2 > 0),\n",
        "        int(pad2 / 2), int(pad2 / 2) + (pad2 % 2 > 0),\n",
        "        int(pad3 / 2), int(pad3 / 2) + (pad3 % 2 > 0)), mode='constant', value=0)\n",
        "    y = F.pad(y, (int(pad1 / 2), int(pad1 / 2) + (pad1 % 2 > 0),\n",
        "        int(pad2 / 2), int(pad2 / 2) + (pad2 % 2 > 0),\n",
        "        int(pad3 / 2), int(pad3 / 2) + (pad3 % 2 > 0)), mode='constant', value=0)\n",
        "\n",
        "    # split the protein into 3D windows\n",
        "    x = sliding_window_3d(x)\n",
        "    y = sliding_window_3d(y)\n",
        "\n",
        "    return x,y\n",
        "\n",
        "class VoxelYuDataset(Dataset):\n",
        "    def __init__(self, _Xs= None, _Ys= None):\n",
        "        self.Xs = None\n",
        "        self.Ys = None\n",
        "\n",
        "        if _Xs is None or _Ys is None:\n",
        "            return\n",
        "        counter = 1\n",
        "        keys = list(_Xs.keys())\n",
        "        for key in keys:\n",
        "            print(key, ' ',counter, ' / ', len(keys), ' ')\n",
        "            counter += 1\n",
        "\n",
        "            x, y = pad_and_sliding_window_3d(_Xs[key], _Ys[key])\n",
        "            y = y.sum(dim=[0,2,3,4]) > 0\n",
        "            if self.Xs is None:\n",
        "                self.Xs = x\n",
        "                self.Ys = y\n",
        "            else:\n",
        "                self.Xs = torch.cat((self.Xs,x),1)\n",
        "                self.Ys = torch.cat((self.Ys,y))\n",
        "\n",
        "            if counter % 5 == 0:\n",
        "                gc.collect()\n",
        "\n",
        "            del _Xs[key]\n",
        "            del _Ys[key]\n",
        "\n",
        "        self.Xs = self.Xs.swapaxes(0,1)\n",
        "\n",
        "    def __len__(self):\n",
        "        assert len(self.Xs) == len(self.Ys)\n",
        "        return len(self.Xs)\n",
        "\n",
        "    def __getitem__(self, idx):\n",
        "        x = self.Xs[idx]\n",
        "        y = self.Ys[idx]\n",
        "        return x, y"
      ]
    },
    {
      "cell_type": "markdown",
      "metadata": {
        "id": "8UsZTBiKYYO9"
      },
      "source": [
        "### 3D CNN model definition\n",
        "Let's create a 3D CNN model consisting of one convolutional layer, one pooling layer and two dense layers."
      ]
    },
    {
      "cell_type": "code",
      "execution_count": 26,
      "metadata": {
        "id": "zuL5o-8E8nqX"
      },
      "outputs": [],
      "source": [
        "class VoxelYuCNN(nn.Module):\n",
        "    def __init__(self):\n",
        "        super(VoxelYuCNN, self).__init__()\n",
        "        self.conv1 = nn.Conv3d(in_channels=8,\n",
        "                               out_channels=2,\n",
        "                               kernel_size = 5,\n",
        "                               stride=2,\n",
        "                               padding=2)\n",
        "\n",
        "\n",
        "\n",
        "        self.maxpool1 = nn.MaxPool3d(kernel_size=3, stride=1, padding=1)\n",
        "\n",
        "        self.dropout1 = nn.Dropout(0.25)\n",
        "\n",
        "        self.linear1 = nn.Linear(8192, 2048)\n",
        "        self.dropout2 = nn.Dropout(0.25)\n",
        "\n",
        "        self.linear2 = nn.Linear(2048, 1)\n",
        "\n",
        "\n",
        "    def forward(self, x):\n",
        "        x = self.conv1(x)\n",
        "\n",
        "        x = F.relu(x)\n",
        "        x = self.maxpool1(x)\n",
        "        x = self.dropout1(x)\n",
        "        x = torch.flatten(x,1)\n",
        "\n",
        "        x = self.linear1(x)\n",
        "        x = self.dropout2(x)\n",
        "        x = F.relu(x)\n",
        "\n",
        "        x = self.linear2(x)\n",
        "        return x\n"
      ]
    },
    {
      "cell_type": "code",
      "execution_count": 27,
      "metadata": {
        "id": "vGvYcFkm8rrY"
      },
      "outputs": [],
      "source": [
        "def compute_class_weights(labels):\n",
        "    class_weights=class_weight.compute_class_weight(class_weight='balanced', classes=np.unique(labels), y=labels)\n",
        "    class_weights=torch.tensor(class_weights,dtype=torch.float)\n",
        "    return class_weights\n",
        "def accuracy_fn(y_true, y_pred):\n",
        "    correct = torch.eq(y_true, y_pred).sum().item()\n",
        "    acc = (correct / len(y_pred)) * 100\n",
        "    return acc\n"
      ]
    },
    {
      "cell_type": "markdown",
      "metadata": {
        "id": "RFdvQQrAX4U6"
      },
      "source": [
        "### Compute class weights\n",
        "Similarly as in PART 1, the dataset is imbalanced. Normally we would compute the class weights from the whole dataset. However, as the whole dataset doesn't fit into the limits of google colab, we precomputed the class weights in advance."
      ]
    },
    {
      "cell_type": "code",
      "execution_count": 29,
      "metadata": {
        "id": "5WivpRfo8tRu"
      },
      "outputs": [],
      "source": [
        "# to save computational resources of google colab, we pre-computed the class weights\n",
        "class_weights = torch.tensor([0.6570, 2.0919], device='cuda:0')"
      ]
    },
    {
      "cell_type": "markdown",
      "metadata": {
        "id": "Rq_kQLJbZApe"
      },
      "source": [
        "### Splitting the dataset into parts and loading each part separately\n",
        "The google colab limits do not allow us to load the dataset at once. Therefore the dataset was partitioned in advance and each partition of the train set is saved in `./data/train_dataset_i.pickle` (`./data/test_dataset.pickle` for the test set). In each epoch during the train loop, we load the partitions one-by-one and delete the memory afterwards (`del` with `gc.collect()`) to not exceed the google colab limits."
      ]
    },
    {
      "cell_type": "markdown",
      "metadata": {
        "id": "vmeUB7sgTdjX"
      },
      "source": [
        "# You might want to go get yourself a cup of coffee or tea, this might take a while!\n",
        "Training the 3D CNN might take around ~10min."
      ]
    },
    {
      "cell_type": "code",
      "execution_count": 33,
      "metadata": {
        "colab": {
          "base_uri": "https://localhost:8080/"
        },
        "id": "qyFqnb6r8xto",
        "outputId": "13f5e5e0-3a76-45bb-d5c7-a545afbcaab9"
      },
      "outputs": [
        {
          "name": "stdout",
          "output_type": "stream",
          "text": [
            "Epoch 0\n",
            "Loading 0th subset from pickle ...\n",
            "Loading 1th subset from pickle ...\n",
            "Loading 2th subset from pickle ...\n",
            "Loading 3th subset from pickle ...\n",
            "Loading 4th subset from pickle ...\n",
            "Loading 5th subset from pickle ...\n",
            "Loading 6th subset from pickle ...\n",
            "Loading 7th subset from pickle ...\n",
            "Epoch 1\n",
            "Loading 0th subset from pickle ...\n",
            "Loading 1th subset from pickle ...\n",
            "Loading 2th subset from pickle ...\n",
            "Loading 3th subset from pickle ...\n",
            "Loading 4th subset from pickle ...\n",
            "Loading 5th subset from pickle ...\n",
            "Loading 6th subset from pickle ...\n",
            "Loading 7th subset from pickle ...\n",
            "Epoch 2\n",
            "Loading 0th subset from pickle ...\n",
            "Loading 1th subset from pickle ...\n",
            "Loading 2th subset from pickle ...\n",
            "Loading 3th subset from pickle ...\n",
            "Loading 4th subset from pickle ...\n",
            "Loading 5th subset from pickle ...\n",
            "Loading 6th subset from pickle ...\n",
            "Loading 7th subset from pickle ...\n",
            "Epoch 3\n",
            "Loading 0th subset from pickle ...\n",
            "Loading 1th subset from pickle ...\n",
            "Loading 2th subset from pickle ...\n",
            "Loading 3th subset from pickle ...\n",
            "Loading 4th subset from pickle ...\n",
            "Loading 5th subset from pickle ...\n",
            "Loading 6th subset from pickle ...\n",
            "Loading 7th subset from pickle ...\n",
            "Epoch 4\n",
            "Loading 0th subset from pickle ...\n",
            "Loading 1th subset from pickle ...\n",
            "Loading 2th subset from pickle ...\n",
            "Loading 3th subset from pickle ...\n",
            "Loading 4th subset from pickle ...\n",
            "Loading 5th subset from pickle ...\n",
            "Loading 6th subset from pickle ...\n",
            "Loading 7th subset from pickle ...\n"
          ]
        }
      ],
      "source": [
        "import pickle\n",
        "\n",
        "BATCH_SIZE = 2048\n",
        "\n",
        "model_2 = VoxelYuCNN().to(device)\n",
        "\n",
        "# Create an optimizer\n",
        "optimizer = torch.optim.Adam(params=model_2.parameters(),\n",
        "                            lr=0.0001)\n",
        "\n",
        "loss_fn = nn.BCEWithLogitsLoss(pos_weight=class_weights[1])\n",
        "epochs = 5\n",
        "\n",
        "\n",
        "for epoch in range(epochs):\n",
        "    ### TRAIN\n",
        "    print(f\"Epoch {epoch}\")\n",
        "\n",
        "    model_2.train()\n",
        "\n",
        "    for i in range(NUMBER_OF_SPLITS):\n",
        "        with open(f'{DATAPATH}/train_dataset_{i}.pickle', 'rb') as f:\n",
        "            print(f'Loading {i}th subset from pickle ...')\n",
        "            train_subset = pickle.load(f)\n",
        "\n",
        "        train_dataloader = DataLoader(train_subset, batch_size=BATCH_SIZE, shuffle=True)\n",
        "\n",
        "        for id_batch, (x_batch, y_batch) in enumerate(train_dataloader):\n",
        "            #print(f\"Epoch {epoch}, batch {id_batch} / {batches}\")\n",
        "\n",
        "            X_train, y_train = x_batch.to(device), y_batch.to(device).float()\n",
        "\n",
        "            y_logits = model_2(X_train.float()).squeeze()\n",
        "            y_pred = torch.round(torch.sigmoid(y_logits))\n",
        "\n",
        "            loss = loss_fn(y_logits,\n",
        "                            y_train)\n",
        "            acc = accuracy_fn(y_true=y_train,\n",
        "                                y_pred=y_pred)\n",
        "\n",
        "            optimizer.zero_grad()\n",
        "\n",
        "            loss.backward()\n",
        "\n",
        "            optimizer.step()\n",
        "\n",
        "        # free memory so we don't exceed the google colab limits\n",
        "        del train_subset, train_dataloader\n",
        "        gc.collect()\n"
      ]
    },
    {
      "cell_type": "markdown",
      "metadata": {
        "id": "RAUKMsOqbJQB"
      },
      "source": [
        "# Performance\n",
        "Evaluate the performance of the 3D CNN on the test set"
      ]
    },
    {
      "cell_type": "code",
      "execution_count": 36,
      "metadata": {
        "colab": {
          "base_uri": "https://localhost:8080/"
        },
        "id": "SIFSaZAVIJYd",
        "outputId": "d26e49c7-ac02-42f5-817e-57843bc7e18b"
      },
      "outputs": [
        {
          "name": "stdout",
          "output_type": "stream",
          "text": [
            "Loading test subset from pickle ...\n",
            "Accuracy: 76.47% | Test loss: 0.56063, AUC: 0.8446305671855415, MCC: 0.45536679260722873\n",
            "Run garbage collector ...\n"
          ]
        },
        {
          "data": {
            "text/plain": [
              "636"
            ]
          },
          "execution_count": 36,
          "metadata": {},
          "output_type": "execute_result"
        }
      ],
      "source": [
        "model_2.eval()\n",
        "\n",
        "with torch.inference_mode():\n",
        "\n",
        "    # prepare the test data\n",
        "    with open(f'{DATAPATH}/test_dataset.pickle', 'rb') as f:\n",
        "        print(f'Loading test subset from pickle ...')\n",
        "        test_subset = pickle.load(f)\n",
        "\n",
        "    test_dataloader = DataLoader(test_subset, batch_size=BATCH_SIZE, shuffle=False)\n",
        "    \n",
        "    # make the predictions (batch the predictions just in case GPU doesn't have enough memory)\n",
        "    test_logits = None\n",
        "    y_test = None\n",
        "\n",
        "    for id_batch, (x_batch, y_batch) in enumerate(test_dataloader):\n",
        "        if test_logits == None:\n",
        "            test_logits = model_2(x_batch.float().to(device)).squeeze().to(device)\n",
        "            y_test = y_batch\n",
        "        else:\n",
        "            test_logits = torch.cat((test_logits, model_2(x_batch.float().to(device)).squeeze()))\n",
        "            y_test = torch.cat((y_test, y_batch))\n",
        "    \n",
        "    # compute the metrics\n",
        "    test_pred = torch.round(torch.sigmoid(test_logits))\n",
        "    y_test = y_test.to(device).float()\n",
        "    test_loss = loss_fn(test_logits,\n",
        "                        y_test.to(device))\n",
        "    test_acc = accuracy_fn(y_true=y_test,\n",
        "                            y_pred=test_pred)\n",
        "    fpr_2, tpr_2, thresholds = metrics.roc_curve(y_test.cpu().numpy(), torch.sigmoid(test_logits).cpu().numpy())\n",
        "    roc_auc_2 = metrics.auc(fpr_2, tpr_2)\n",
        "    mcc = metrics.matthews_corrcoef(y_test.cpu().numpy(), test_pred.cpu().numpy())\n",
        "    \n",
        "    print(f\"Accuracy: {acc:.2f}% | Test loss: {test_loss:.5f}, AUC: {roc_auc_2}, MCC: {mcc}\")\n",
        "\n",
        "# cleanup\n",
        "print('Run garbage collector ...')\n",
        "del test_subset\n",
        "gc.collect()"
      ]
    },
    {
      "cell_type": "markdown",
      "metadata": {
        "id": "h6uWNaLATpUa"
      },
      "source": [
        "# Homework: Part 2\n",
        "Create the ROC curve: print the ROC curve for all models into one plot (the trained `YuClassifier` model, the `ProtBert` model trained by you and the `VoxelYuCNN`)\n"
      ]
    },
    {
      "cell_type": "code",
      "execution_count": 37,
      "metadata": {
        "colab": {
          "base_uri": "https://localhost:8080/",
          "height": 472
        },
        "id": "AS-0LUPAINFb",
        "outputId": "46b8a629-2f34-4a6d-9ade-3e516459b8a9"
      },
      "outputs": [
        {
          "data": {
            "image/png": "[encoded data removed]",
            "text/plain": [
              "<Figure size 640x480 with 1 Axes>"
            ]
          },
          "metadata": {},
          "output_type": "display_data"
        }
      ],
      "source": [
        "plt.title('Receiver Operating Characteristic')\n",
        "\n",
        "plt.plot(fpr, tpr, 'b', label = 'ESM-2: AUC = %0.2f' % roc_auc)\n",
        "plt.plot(fpr_1, tpr_1, 'y', label = 'ProtBERT: AUC = %0.2f' % roc_auc_1)\n",
        "plt.plot(fpr_2, tpr_2, 'm', label = '3D-CNN: AUC = %0.2f' % roc_auc_2)\n",
        "\n",
        "plt.legend(loc = 'lower right')\n",
        "\n",
        "plt.plot([0, 1], [0, 1],'r--')\n",
        "plt.xlim([0, 1])\n",
        "plt.ylim([0, 1])\n",
        "plt.ylabel('True Positive Rate')\n",
        "plt.xlabel('False Positive Rate')\n",
        "plt.show()"
      ]
    }
  ],
  "metadata": {
    "accelerator": "GPU",
    "colab": {
      "gpuType": "T4",
      "provenance": []
    },
    "kernelspec": {
      "display_name": "Python 3 (ipykernel)",
      "language": "python",
      "name": "python3"
    },
    "language_info": {
      "codemirror_mode": {
        "name": "ipython",
        "version": 3
      },
      "file_extension": ".py",
      "mimetype": "text/x-python",
      "name": "python",
      "nbconvert_exporter": "python",
      "pygments_lexer": "ipython3",
      "version": "3.9.18"
    },
    "widgets": {
      "application/vnd.jupyter.widget-state+json": {
        "10dcec6bdd924c48907f30ce10963cef": {
          "model_module": "@jupyter-widgets/base",
          "model_module_version": "1.2.0",
          "model_name": "LayoutModel",
          "state": {
            "_model_module": "@jupyter-widgets/base",
            "_model_module_version": "1.2.0",
            "_model_name": "LayoutModel",
            "_view_count": null,
            "_view_module": "@jupyter-widgets/base",
            "_view_module_version": "1.2.0",
            "_view_name": "LayoutView",
            "align_content": null,
            "align_items": null,
            "align_self": null,
            "border": null,
            "bottom": null,
            "display": null,
            "flex": null,
            "flex_flow": null,
            "grid_area": null,
            "grid_auto_columns": null,
            "grid_auto_flow": null,
            "grid_auto_rows": null,
            "grid_column": null,
            "grid_gap": null,
            "grid_row": null,
            "grid_template_areas": null,
            "grid_template_columns": null,
            "grid_template_rows": null,
            "height": null,
            "justify_content": null,
            "justify_items": null,
            "left": null,
            "margin": null,
            "max_height": null,
            "max_width": null,
            "min_height": null,
            "min_width": null,
            "object_fit": null,
            "object_position": null,
            "order": null,
            "overflow": null,
            "overflow_x": null,
            "overflow_y": null,
            "padding": null,
            "right": null,
            "top": null,
            "visibility": null,
            "width": null
          }
        },
        "11eb770c66894cf4abbcddd4e2c702ce": {
          "model_module": "@jupyter-widgets/base",
          "model_module_version": "1.2.0",
          "model_name": "LayoutModel",
          "state": {
            "_model_module": "@jupyter-widgets/base",
            "_model_module_version": "1.2.0",
            "_model_name": "LayoutModel",
            "_view_count": null,
            "_view_module": "@jupyter-widgets/base",
            "_view_module_version": "1.2.0",
            "_view_name": "LayoutView",
            "align_content": null,
            "align_items": null,
            "align_self": null,
            "border": null,
            "bottom": null,
            "display": null,
            "flex": null,
            "flex_flow": null,
            "grid_area": null,
            "grid_auto_columns": null,
            "grid_auto_flow": null,
            "grid_auto_rows": null,
            "grid_column": null,
            "grid_gap": null,
            "grid_row": null,
            "grid_template_areas": null,
            "grid_template_columns": null,
            "grid_template_rows": null,
            "height": null,
            "justify_content": null,
            "justify_items": null,
            "left": null,
            "margin": null,
            "max_height": null,
            "max_width": null,
            "min_height": null,
            "min_width": null,
            "object_fit": null,
            "object_position": null,
            "order": null,
            "overflow": null,
            "overflow_x": null,
            "overflow_y": null,
            "padding": null,
            "right": null,
            "top": null,
            "visibility": null,
            "width": null
          }
        },
        "13665ce45c334a57b3089eb002952933": {
          "model_module": "@jupyter-widgets/controls",
          "model_module_version": "1.5.0",
          "model_name": "DescriptionStyleModel",
          "state": {
            "_model_module": "@jupyter-widgets/controls",
            "_model_module_version": "1.5.0",
            "_model_name": "DescriptionStyleModel",
            "_view_count": null,
            "_view_module": "@jupyter-widgets/base",
            "_view_module_version": "1.2.0",
            "_view_name": "StyleView",
            "description_width": ""
          }
        },
        "16f0d0e957474d9bba068d13a6dd5a51": {
          "model_module": "@jupyter-widgets/base",
          "model_module_version": "1.2.0",
          "model_name": "LayoutModel",
          "state": {
            "_model_module": "@jupyter-widgets/base",
            "_model_module_version": "1.2.0",
            "_model_name": "LayoutModel",
            "_view_count": null,
            "_view_module": "@jupyter-widgets/base",
            "_view_module_version": "1.2.0",
            "_view_name": "LayoutView",
            "align_content": null,
            "align_items": null,
            "align_self": null,
            "border": null,
            "bottom": null,
            "display": null,
            "flex": null,
            "flex_flow": null,
            "grid_area": null,
            "grid_auto_columns": null,
            "grid_auto_flow": null,
            "grid_auto_rows": null,
            "grid_column": null,
            "grid_gap": null,
            "grid_row": null,
            "grid_template_areas": null,
            "grid_template_columns": null,
            "grid_template_rows": null,
            "height": null,
            "justify_content": null,
            "justify_items": null,
            "left": null,
            "margin": null,
            "max_height": null,
            "max_width": null,
            "min_height": null,
            "min_width": null,
            "object_fit": null,
            "object_position": null,
            "order": null,
            "overflow": null,
            "overflow_x": null,
            "overflow_y": null,
            "padding": null,
            "right": null,
            "top": null,
            "visibility": null,
            "width": null
          }
        },
        "1e57123d7d4f427ea4cbf922071e8332": {
          "model_module": "@jupyter-widgets/controls",
          "model_module_version": "1.5.0",
          "model_name": "HTMLModel",
          "state": {
            "_dom_classes": [],
            "_model_module": "@jupyter-widgets/controls",
            "_model_module_version": "1.5.0",
            "_model_name": "HTMLModel",
            "_view_count": null,
            "_view_module": "@jupyter-widgets/controls",
            "_view_module_version": "1.5.0",
            "_view_name": "HTMLView",
            "description": "",
            "description_tooltip": null,
            "layout": "IPY_MODEL_7490b10a8bcb49269d3d6ca66d807ab0",
            "placeholder": "​",
            "style": "IPY_MODEL_e17fb088b6b946a98e47d0e6f712fb5b",
            "value": "config.json: 100%"
          }
        },
        "1ee42218b00b4149b47d6750108754b8": {
          "model_module": "@jupyter-widgets/controls",
          "model_module_version": "1.5.0",
          "model_name": "DescriptionStyleModel",
          "state": {
            "_model_module": "@jupyter-widgets/controls",
            "_model_module_version": "1.5.0",
            "_model_name": "DescriptionStyleModel",
            "_view_count": null,
            "_view_module": "@jupyter-widgets/base",
            "_view_module_version": "1.2.0",
            "_view_name": "StyleView",
            "description_width": ""
          }
        },
        "2231ef0486234cbe9376f05efccbf96a": {
          "model_module": "@jupyter-widgets/controls",
          "model_module_version": "1.5.0",
          "model_name": "FloatProgressModel",
          "state": {
            "_dom_classes": [],
            "_model_module": "@jupyter-widgets/controls",
            "_model_module_version": "1.5.0",
            "_model_name": "FloatProgressModel",
            "_view_count": null,
            "_view_module": "@jupyter-widgets/controls",
            "_view_module_version": "1.5.0",
            "_view_name": "ProgressView",
            "bar_style": "success",
            "description": "",
            "description_tooltip": null,
            "layout": "IPY_MODEL_6c4b220b84944c1c8cc1ac06fec86757",
            "max": 112,
            "min": 0,
            "orientation": "horizontal",
            "style": "IPY_MODEL_99d013b65c8d4adab38df90e09e99bdd",
            "value": 112
          }
        },
        "23a7fce7225f438191ea6da36e6b48d8": {
          "model_module": "@jupyter-widgets/base",
          "model_module_version": "1.2.0",
          "model_name": "LayoutModel",
          "state": {
            "_model_module": "@jupyter-widgets/base",
            "_model_module_version": "1.2.0",
            "_model_name": "LayoutModel",
            "_view_count": null,
            "_view_module": "@jupyter-widgets/base",
            "_view_module_version": "1.2.0",
            "_view_name": "LayoutView",
            "align_content": null,
            "align_items": null,
            "align_self": null,
            "border": null,
            "bottom": null,
            "display": null,
            "flex": null,
            "flex_flow": null,
            "grid_area": null,
            "grid_auto_columns": null,
            "grid_auto_flow": null,
            "grid_auto_rows": null,
            "grid_column": null,
            "grid_gap": null,
            "grid_row": null,
            "grid_template_areas": null,
            "grid_template_columns": null,
            "grid_template_rows": null,
            "height": null,
            "justify_content": null,
            "justify_items": null,
            "left": null,
            "margin": null,
            "max_height": null,
            "max_width": null,
            "min_height": null,
            "min_width": null,
            "object_fit": null,
            "object_position": null,
            "order": null,
            "overflow": null,
            "overflow_x": null,
            "overflow_y": null,
            "padding": null,
            "right": null,
            "top": null,
            "visibility": null,
            "width": null
          }
        },
        "249a9669b7054e8198e035d74b767613": {
          "model_module": "@jupyter-widgets/controls",
          "model_module_version": "1.5.0",
          "model_name": "FloatProgressModel",
          "state": {
            "_dom_classes": [],
            "_model_module": "@jupyter-widgets/controls",
            "_model_module_version": "1.5.0",
            "_model_name": "FloatProgressModel",
            "_view_count": null,
            "_view_module": "@jupyter-widgets/controls",
            "_view_module_version": "1.5.0",
            "_view_name": "ProgressView",
            "bar_style": "success",
            "description": "",
            "description_tooltip": null,
            "layout": "IPY_MODEL_d4759799b6df417da6b40acd01968926",
            "max": 1684058277,
            "min": 0,
            "orientation": "horizontal",
            "style": "IPY_MODEL_42d5af01a2614dca8d697bd64f3423c0",
            "value": 1684058277
          }
        },
        "27d5321fb7074d4c95b00e5e72e71c1d": {
          "model_module": "@jupyter-widgets/controls",
          "model_module_version": "1.5.0",
          "model_name": "HTMLModel",
          "state": {
            "_dom_classes": [],
            "_model_module": "@jupyter-widgets/controls",
            "_model_module_version": "1.5.0",
            "_model_name": "HTMLModel",
            "_view_count": null,
            "_view_module": "@jupyter-widgets/controls",
            "_view_module_version": "1.5.0",
            "_view_name": "HTMLView",
            "description": "",
            "description_tooltip": null,
            "layout": "IPY_MODEL_320ed206b4d24ef5978e718fef49106a",
            "placeholder": "​",
            "style": "IPY_MODEL_77b2e4ce3af24db4be7411b5aa52089a",
            "value": " 86.0/86.0 [00:00&lt;00:00, 2.82kB/s]"
          }
        },
        "29698658672a42aba704f733c228e6e5": {
          "model_module": "@jupyter-widgets/controls",
          "model_module_version": "1.5.0",
          "model_name": "FloatProgressModel",
          "state": {
            "_dom_classes": [],
            "_model_module": "@jupyter-widgets/controls",
            "_model_module_version": "1.5.0",
            "_model_name": "FloatProgressModel",
            "_view_count": null,
            "_view_module": "@jupyter-widgets/controls",
            "_view_module_version": "1.5.0",
            "_view_name": "ProgressView",
            "bar_style": "success",
            "description": "",
            "description_tooltip": null,
            "layout": "IPY_MODEL_a5ebceb281ab47498ba3a43356b4afae",
            "max": 86,
            "min": 0,
            "orientation": "horizontal",
            "style": "IPY_MODEL_392dfb76d6ec444fa2d3988be30894a7",
            "value": 86
          }
        },
        "2a2572fb22494efb87dce6f5740ee24c": {
          "model_module": "@jupyter-widgets/base",
          "model_module_version": "1.2.0",
          "model_name": "LayoutModel",
          "state": {
            "_model_module": "@jupyter-widgets/base",
            "_model_module_version": "1.2.0",
            "_model_name": "LayoutModel",
            "_view_count": null,
            "_view_module": "@jupyter-widgets/base",
            "_view_module_version": "1.2.0",
            "_view_name": "LayoutView",
            "align_content": null,
            "align_items": null,
            "align_self": null,
            "border": null,
            "bottom": null,
            "display": null,
            "flex": null,
            "flex_flow": null,
            "grid_area": null,
            "grid_auto_columns": null,
            "grid_auto_flow": null,
            "grid_auto_rows": null,
            "grid_column": null,
            "grid_gap": null,
            "grid_row": null,
            "grid_template_areas": null,
            "grid_template_columns": null,
            "grid_template_rows": null,
            "height": null,
            "justify_content": null,
            "justify_items": null,
            "left": null,
            "margin": null,
            "max_height": null,
            "max_width": null,
            "min_height": null,
            "min_width": null,
            "object_fit": null,
            "object_position": null,
            "order": null,
            "overflow": null,
            "overflow_x": null,
            "overflow_y": null,
            "padding": null,
            "right": null,
            "top": null,
            "visibility": null,
            "width": null
          }
        },
        "31f0a8a8b6da4a2881f69ba2a72b6ed0": {
          "model_module": "@jupyter-widgets/controls",
          "model_module_version": "1.5.0",
          "model_name": "DescriptionStyleModel",
          "state": {
            "_model_module": "@jupyter-widgets/controls",
            "_model_module_version": "1.5.0",
            "_model_name": "DescriptionStyleModel",
            "_view_count": null,
            "_view_module": "@jupyter-widgets/base",
            "_view_module_version": "1.2.0",
            "_view_name": "StyleView",
            "description_width": ""
          }
        },
        "320ed206b4d24ef5978e718fef49106a": {
          "model_module": "@jupyter-widgets/base",
          "model_module_version": "1.2.0",
          "model_name": "LayoutModel",
          "state": {
            "_model_module": "@jupyter-widgets/base",
            "_model_module_version": "1.2.0",
            "_model_name": "LayoutModel",
            "_view_count": null,
            "_view_module": "@jupyter-widgets/base",
            "_view_module_version": "1.2.0",
            "_view_name": "LayoutView",
            "align_content": null,
            "align_items": null,
            "align_self": null,
            "border": null,
            "bottom": null,
            "display": null,
            "flex": null,
            "flex_flow": null,
            "grid_area": null,
            "grid_auto_columns": null,
            "grid_auto_flow": null,
            "grid_auto_rows": null,
            "grid_column": null,
            "grid_gap": null,
            "grid_row": null,
            "grid_template_areas": null,
            "grid_template_columns": null,
            "grid_template_rows": null,
            "height": null,
            "justify_content": null,
            "justify_items": null,
            "left": null,
            "margin": null,
            "max_height": null,
            "max_width": null,
            "min_height": null,
            "min_width": null,
            "object_fit": null,
            "object_position": null,
            "order": null,
            "overflow": null,
            "overflow_x": null,
            "overflow_y": null,
            "padding": null,
            "right": null,
            "top": null,
            "visibility": null,
            "width": null
          }
        },
        "34bf2a306b474f61a13370d1c24df46e": {
          "model_module": "@jupyter-widgets/base",
          "model_module_version": "1.2.0",
          "model_name": "LayoutModel",
          "state": {
            "_model_module": "@jupyter-widgets/base",
            "_model_module_version": "1.2.0",
            "_model_name": "LayoutModel",
            "_view_count": null,
            "_view_module": "@jupyter-widgets/base",
            "_view_module_version": "1.2.0",
            "_view_name": "LayoutView",
            "align_content": null,
            "align_items": null,
            "align_self": null,
            "border": null,
            "bottom": null,
            "display": null,
            "flex": null,
            "flex_flow": null,
            "grid_area": null,
            "grid_auto_columns": null,
            "grid_auto_flow": null,
            "grid_auto_rows": null,
            "grid_column": null,
            "grid_gap": null,
            "grid_row": null,
            "grid_template_areas": null,
            "grid_template_columns": null,
            "grid_template_rows": null,
            "height": null,
            "justify_content": null,
            "justify_items": null,
            "left": null,
            "margin": null,
            "max_height": null,
            "max_width": null,
            "min_height": null,
            "min_width": null,
            "object_fit": null,
            "object_position": null,
            "order": null,
            "overflow": null,
            "overflow_x": null,
            "overflow_y": null,
            "padding": null,
            "right": null,
            "top": null,
            "visibility": null,
            "width": null
          }
        },
        "362800dc75ae46feb4607786a2af449f": {
          "model_module": "@jupyter-widgets/controls",
          "model_module_version": "1.5.0",
          "model_name": "HTMLModel",
          "state": {
            "_dom_classes": [],
            "_model_module": "@jupyter-widgets/controls",
            "_model_module_version": "1.5.0",
            "_model_name": "HTMLModel",
            "_view_count": null,
            "_view_module": "@jupyter-widgets/controls",
            "_view_module_version": "1.5.0",
            "_view_name": "HTMLView",
            "description": "",
            "description_tooltip": null,
            "layout": "IPY_MODEL_2a2572fb22494efb87dce6f5740ee24c",
            "placeholder": "​",
            "style": "IPY_MODEL_1ee42218b00b4149b47d6750108754b8",
            "value": "vocab.txt: 100%"
          }
        },
        "392dfb76d6ec444fa2d3988be30894a7": {
          "model_module": "@jupyter-widgets/controls",
          "model_module_version": "1.5.0",
          "model_name": "ProgressStyleModel",
          "state": {
            "_model_module": "@jupyter-widgets/controls",
            "_model_module_version": "1.5.0",
            "_model_name": "ProgressStyleModel",
            "_view_count": null,
            "_view_module": "@jupyter-widgets/base",
            "_view_module_version": "1.2.0",
            "_view_name": "StyleView",
            "bar_color": null,
            "description_width": ""
          }
        },
        "39a7aa25c23943c8b8c946bc023d0543": {
          "model_module": "@jupyter-widgets/controls",
          "model_module_version": "1.5.0",
          "model_name": "DescriptionStyleModel",
          "state": {
            "_model_module": "@jupyter-widgets/controls",
            "_model_module_version": "1.5.0",
            "_model_name": "DescriptionStyleModel",
            "_view_count": null,
            "_view_module": "@jupyter-widgets/base",
            "_view_module_version": "1.2.0",
            "_view_name": "StyleView",
            "description_width": ""
          }
        },
        "3a326afe59864ef08ba2dee2c3fa63ae": {
          "model_module": "@jupyter-widgets/base",
          "model_module_version": "1.2.0",
          "model_name": "LayoutModel",
          "state": {
            "_model_module": "@jupyter-widgets/base",
            "_model_module_version": "1.2.0",
            "_model_name": "LayoutModel",
            "_view_count": null,
            "_view_module": "@jupyter-widgets/base",
            "_view_module_version": "1.2.0",
            "_view_name": "LayoutView",
            "align_content": null,
            "align_items": null,
            "align_self": null,
            "border": null,
            "bottom": null,
            "display": null,
            "flex": null,
            "flex_flow": null,
            "grid_area": null,
            "grid_auto_columns": null,
            "grid_auto_flow": null,
            "grid_auto_rows": null,
            "grid_column": null,
            "grid_gap": null,
            "grid_row": null,
            "grid_template_areas": null,
            "grid_template_columns": null,
            "grid_template_rows": null,
            "height": null,
            "justify_content": null,
            "justify_items": null,
            "left": null,
            "margin": null,
            "max_height": null,
            "max_width": null,
            "min_height": null,
            "min_width": null,
            "object_fit": null,
            "object_position": null,
            "order": null,
            "overflow": null,
            "overflow_x": null,
            "overflow_y": null,
            "padding": null,
            "right": null,
            "top": null,
            "visibility": null,
            "width": null
          }
        },
        "4049bffa9225450db80bbd8d64154484": {
          "model_module": "@jupyter-widgets/controls",
          "model_module_version": "1.5.0",
          "model_name": "HTMLModel",
          "state": {
            "_dom_classes": [],
            "_model_module": "@jupyter-widgets/controls",
            "_model_module_version": "1.5.0",
            "_model_name": "HTMLModel",
            "_view_count": null,
            "_view_module": "@jupyter-widgets/controls",
            "_view_module_version": "1.5.0",
            "_view_name": "HTMLView",
            "description": "",
            "description_tooltip": null,
            "layout": "IPY_MODEL_5841f5dc740447e38b190979cc8e4c12",
            "placeholder": "​",
            "style": "IPY_MODEL_dfb1b1c69ac740628db9e6146e718f64",
            "value": " 1.68G/1.68G [00:17&lt;00:00, 191MB/s]"
          }
        },
        "42d5af01a2614dca8d697bd64f3423c0": {
          "model_module": "@jupyter-widgets/controls",
          "model_module_version": "1.5.0",
          "model_name": "ProgressStyleModel",
          "state": {
            "_model_module": "@jupyter-widgets/controls",
            "_model_module_version": "1.5.0",
            "_model_name": "ProgressStyleModel",
            "_view_count": null,
            "_view_module": "@jupyter-widgets/base",
            "_view_module_version": "1.2.0",
            "_view_name": "StyleView",
            "bar_color": null,
            "description_width": ""
          }
        },
        "53dea7b41c9d4baba2c2105f0b3f86ed": {
          "model_module": "@jupyter-widgets/controls",
          "model_module_version": "1.5.0",
          "model_name": "HBoxModel",
          "state": {
            "_dom_classes": [],
            "_model_module": "@jupyter-widgets/controls",
            "_model_module_version": "1.5.0",
            "_model_name": "HBoxModel",
            "_view_count": null,
            "_view_module": "@jupyter-widgets/controls",
            "_view_module_version": "1.5.0",
            "_view_name": "HBoxView",
            "box_style": "",
            "children": [
              "IPY_MODEL_94f11971edb744af818f278123f3823c",
              "IPY_MODEL_249a9669b7054e8198e035d74b767613",
              "IPY_MODEL_4049bffa9225450db80bbd8d64154484"
            ],
            "layout": "IPY_MODEL_eb21728d209f4c318c7c9f64dab6c00a"
          }
        },
        "5841f5dc740447e38b190979cc8e4c12": {
          "model_module": "@jupyter-widgets/base",
          "model_module_version": "1.2.0",
          "model_name": "LayoutModel",
          "state": {
            "_model_module": "@jupyter-widgets/base",
            "_model_module_version": "1.2.0",
            "_model_name": "LayoutModel",
            "_view_count": null,
            "_view_module": "@jupyter-widgets/base",
            "_view_module_version": "1.2.0",
            "_view_name": "LayoutView",
            "align_content": null,
            "align_items": null,
            "align_self": null,
            "border": null,
            "bottom": null,
            "display": null,
            "flex": null,
            "flex_flow": null,
            "grid_area": null,
            "grid_auto_columns": null,
            "grid_auto_flow": null,
            "grid_auto_rows": null,
            "grid_column": null,
            "grid_gap": null,
            "grid_row": null,
            "grid_template_areas": null,
            "grid_template_columns": null,
            "grid_template_rows": null,
            "height": null,
            "justify_content": null,
            "justify_items": null,
            "left": null,
            "margin": null,
            "max_height": null,
            "max_width": null,
            "min_height": null,
            "min_width": null,
            "object_fit": null,
            "object_position": null,
            "order": null,
            "overflow": null,
            "overflow_x": null,
            "overflow_y": null,
            "padding": null,
            "right": null,
            "top": null,
            "visibility": null,
            "width": null
          }
        },
        "5b52269eb01c4fd0b26acfaf139d5bc5": {
          "model_module": "@jupyter-widgets/base",
          "model_module_version": "1.2.0",
          "model_name": "LayoutModel",
          "state": {
            "_model_module": "@jupyter-widgets/base",
            "_model_module_version": "1.2.0",
            "_model_name": "LayoutModel",
            "_view_count": null,
            "_view_module": "@jupyter-widgets/base",
            "_view_module_version": "1.2.0",
            "_view_name": "LayoutView",
            "align_content": null,
            "align_items": null,
            "align_self": null,
            "border": null,
            "bottom": null,
            "display": null,
            "flex": null,
            "flex_flow": null,
            "grid_area": null,
            "grid_auto_columns": null,
            "grid_auto_flow": null,
            "grid_auto_rows": null,
            "grid_column": null,
            "grid_gap": null,
            "grid_row": null,
            "grid_template_areas": null,
            "grid_template_columns": null,
            "grid_template_rows": null,
            "height": null,
            "justify_content": null,
            "justify_items": null,
            "left": null,
            "margin": null,
            "max_height": null,
            "max_width": null,
            "min_height": null,
            "min_width": null,
            "object_fit": null,
            "object_position": null,
            "order": null,
            "overflow": null,
            "overflow_x": null,
            "overflow_y": null,
            "padding": null,
            "right": null,
            "top": null,
            "visibility": null,
            "width": null
          }
        },
        "60da8094e11044aa852d52f1154462e3": {
          "model_module": "@jupyter-widgets/controls",
          "model_module_version": "1.5.0",
          "model_name": "DescriptionStyleModel",
          "state": {
            "_model_module": "@jupyter-widgets/controls",
            "_model_module_version": "1.5.0",
            "_model_name": "DescriptionStyleModel",
            "_view_count": null,
            "_view_module": "@jupyter-widgets/base",
            "_view_module_version": "1.2.0",
            "_view_name": "StyleView",
            "description_width": ""
          }
        },
        "6c4b220b84944c1c8cc1ac06fec86757": {
          "model_module": "@jupyter-widgets/base",
          "model_module_version": "1.2.0",
          "model_name": "LayoutModel",
          "state": {
            "_model_module": "@jupyter-widgets/base",
            "_model_module_version": "1.2.0",
            "_model_name": "LayoutModel",
            "_view_count": null,
            "_view_module": "@jupyter-widgets/base",
            "_view_module_version": "1.2.0",
            "_view_name": "LayoutView",
            "align_content": null,
            "align_items": null,
            "align_self": null,
            "border": null,
            "bottom": null,
            "display": null,
            "flex": null,
            "flex_flow": null,
            "grid_area": null,
            "grid_auto_columns": null,
            "grid_auto_flow": null,
            "grid_auto_rows": null,
            "grid_column": null,
            "grid_gap": null,
            "grid_row": null,
            "grid_template_areas": null,
            "grid_template_columns": null,
            "grid_template_rows": null,
            "height": null,
            "justify_content": null,
            "justify_items": null,
            "left": null,
            "margin": null,
            "max_height": null,
            "max_width": null,
            "min_height": null,
            "min_width": null,
            "object_fit": null,
            "object_position": null,
            "order": null,
            "overflow": null,
            "overflow_x": null,
            "overflow_y": null,
            "padding": null,
            "right": null,
            "top": null,
            "visibility": null,
            "width": null
          }
        },
        "6de95f5af4774338b4716789b4e45766": {
          "model_module": "@jupyter-widgets/controls",
          "model_module_version": "1.5.0",
          "model_name": "HTMLModel",
          "state": {
            "_dom_classes": [],
            "_model_module": "@jupyter-widgets/controls",
            "_model_module_version": "1.5.0",
            "_model_name": "HTMLModel",
            "_view_count": null,
            "_view_module": "@jupyter-widgets/controls",
            "_view_module_version": "1.5.0",
            "_view_name": "HTMLView",
            "description": "",
            "description_tooltip": null,
            "layout": "IPY_MODEL_10dcec6bdd924c48907f30ce10963cef",
            "placeholder": "​",
            "style": "IPY_MODEL_31f0a8a8b6da4a2881f69ba2a72b6ed0",
            "value": " 361/361 [00:00&lt;00:00, 14.6kB/s]"
          }
        },
        "7490b10a8bcb49269d3d6ca66d807ab0": {
          "model_module": "@jupyter-widgets/base",
          "model_module_version": "1.2.0",
          "model_name": "LayoutModel",
          "state": {
            "_model_module": "@jupyter-widgets/base",
            "_model_module_version": "1.2.0",
            "_model_name": "LayoutModel",
            "_view_count": null,
            "_view_module": "@jupyter-widgets/base",
            "_view_module_version": "1.2.0",
            "_view_name": "LayoutView",
            "align_content": null,
            "align_items": null,
            "align_self": null,
            "border": null,
            "bottom": null,
            "display": null,
            "flex": null,
            "flex_flow": null,
            "grid_area": null,
            "grid_auto_columns": null,
            "grid_auto_flow": null,
            "grid_auto_rows": null,
            "grid_column": null,
            "grid_gap": null,
            "grid_row": null,
            "grid_template_areas": null,
            "grid_template_columns": null,
            "grid_template_rows": null,
            "height": null,
            "justify_content": null,
            "justify_items": null,
            "left": null,
            "margin": null,
            "max_height": null,
            "max_width": null,
            "min_height": null,
            "min_width": null,
            "object_fit": null,
            "object_position": null,
            "order": null,
            "overflow": null,
            "overflow_x": null,
            "overflow_y": null,
            "padding": null,
            "right": null,
            "top": null,
            "visibility": null,
            "width": null
          }
        },
        "77b2e4ce3af24db4be7411b5aa52089a": {
          "model_module": "@jupyter-widgets/controls",
          "model_module_version": "1.5.0",
          "model_name": "DescriptionStyleModel",
          "state": {
            "_model_module": "@jupyter-widgets/controls",
            "_model_module_version": "1.5.0",
            "_model_name": "DescriptionStyleModel",
            "_view_count": null,
            "_view_module": "@jupyter-widgets/base",
            "_view_module_version": "1.2.0",
            "_view_name": "StyleView",
            "description_width": ""
          }
        },
        "79b39f93667748a9b05a25c1646814ec": {
          "model_module": "@jupyter-widgets/base",
          "model_module_version": "1.2.0",
          "model_name": "LayoutModel",
          "state": {
            "_model_module": "@jupyter-widgets/base",
            "_model_module_version": "1.2.0",
            "_model_name": "LayoutModel",
            "_view_count": null,
            "_view_module": "@jupyter-widgets/base",
            "_view_module_version": "1.2.0",
            "_view_name": "LayoutView",
            "align_content": null,
            "align_items": null,
            "align_self": null,
            "border": null,
            "bottom": null,
            "display": null,
            "flex": null,
            "flex_flow": null,
            "grid_area": null,
            "grid_auto_columns": null,
            "grid_auto_flow": null,
            "grid_auto_rows": null,
            "grid_column": null,
            "grid_gap": null,
            "grid_row": null,
            "grid_template_areas": null,
            "grid_template_columns": null,
            "grid_template_rows": null,
            "height": null,
            "justify_content": null,
            "justify_items": null,
            "left": null,
            "margin": null,
            "max_height": null,
            "max_width": null,
            "min_height": null,
            "min_width": null,
            "object_fit": null,
            "object_position": null,
            "order": null,
            "overflow": null,
            "overflow_x": null,
            "overflow_y": null,
            "padding": null,
            "right": null,
            "top": null,
            "visibility": null,
            "width": null
          }
        },
        "8b6db5ff87e049bfa8b31771b4c4f50b": {
          "model_module": "@jupyter-widgets/controls",
          "model_module_version": "1.5.0",
          "model_name": "DescriptionStyleModel",
          "state": {
            "_model_module": "@jupyter-widgets/controls",
            "_model_module_version": "1.5.0",
            "_model_name": "DescriptionStyleModel",
            "_view_count": null,
            "_view_module": "@jupyter-widgets/base",
            "_view_module_version": "1.2.0",
            "_view_name": "StyleView",
            "description_width": ""
          }
        },
        "8e871644c25f40d09b13d801f737e7f7": {
          "model_module": "@jupyter-widgets/controls",
          "model_module_version": "1.5.0",
          "model_name": "DescriptionStyleModel",
          "state": {
            "_model_module": "@jupyter-widgets/controls",
            "_model_module_version": "1.5.0",
            "_model_name": "DescriptionStyleModel",
            "_view_count": null,
            "_view_module": "@jupyter-widgets/base",
            "_view_module_version": "1.2.0",
            "_view_name": "StyleView",
            "description_width": ""
          }
        },
        "94f11971edb744af818f278123f3823c": {
          "model_module": "@jupyter-widgets/controls",
          "model_module_version": "1.5.0",
          "model_name": "HTMLModel",
          "state": {
            "_dom_classes": [],
            "_model_module": "@jupyter-widgets/controls",
            "_model_module_version": "1.5.0",
            "_model_name": "HTMLModel",
            "_view_count": null,
            "_view_module": "@jupyter-widgets/controls",
            "_view_module_version": "1.5.0",
            "_view_name": "HTMLView",
            "description": "",
            "description_tooltip": null,
            "layout": "IPY_MODEL_23a7fce7225f438191ea6da36e6b48d8",
            "placeholder": "​",
            "style": "IPY_MODEL_8e871644c25f40d09b13d801f737e7f7",
            "value": "pytorch_model.bin: 100%"
          }
        },
        "99d013b65c8d4adab38df90e09e99bdd": {
          "model_module": "@jupyter-widgets/controls",
          "model_module_version": "1.5.0",
          "model_name": "ProgressStyleModel",
          "state": {
            "_model_module": "@jupyter-widgets/controls",
            "_model_module_version": "1.5.0",
            "_model_name": "ProgressStyleModel",
            "_view_count": null,
            "_view_module": "@jupyter-widgets/base",
            "_view_module_version": "1.2.0",
            "_view_name": "StyleView",
            "bar_color": null,
            "description_width": ""
          }
        },
        "9a82ca4d425f447fa96e2129bffb2b5f": {
          "model_module": "@jupyter-widgets/base",
          "model_module_version": "1.2.0",
          "model_name": "LayoutModel",
          "state": {
            "_model_module": "@jupyter-widgets/base",
            "_model_module_version": "1.2.0",
            "_model_name": "LayoutModel",
            "_view_count": null,
            "_view_module": "@jupyter-widgets/base",
            "_view_module_version": "1.2.0",
            "_view_name": "LayoutView",
            "align_content": null,
            "align_items": null,
            "align_self": null,
            "border": null,
            "bottom": null,
            "display": null,
            "flex": null,
            "flex_flow": null,
            "grid_area": null,
            "grid_auto_columns": null,
            "grid_auto_flow": null,
            "grid_auto_rows": null,
            "grid_column": null,
            "grid_gap": null,
            "grid_row": null,
            "grid_template_areas": null,
            "grid_template_columns": null,
            "grid_template_rows": null,
            "height": null,
            "justify_content": null,
            "justify_items": null,
            "left": null,
            "margin": null,
            "max_height": null,
            "max_width": null,
            "min_height": null,
            "min_width": null,
            "object_fit": null,
            "object_position": null,
            "order": null,
            "overflow": null,
            "overflow_x": null,
            "overflow_y": null,
            "padding": null,
            "right": null,
            "top": null,
            "visibility": null,
            "width": null
          }
        },
        "a5569f20545142949f215f445c521ada": {
          "model_module": "@jupyter-widgets/controls",
          "model_module_version": "1.5.0",
          "model_name": "HBoxModel",
          "state": {
            "_dom_classes": [],
            "_model_module": "@jupyter-widgets/controls",
            "_model_module_version": "1.5.0",
            "_model_name": "HBoxModel",
            "_view_count": null,
            "_view_module": "@jupyter-widgets/controls",
            "_view_module_version": "1.5.0",
            "_view_name": "HBoxView",
            "box_style": "",
            "children": [
              "IPY_MODEL_a69b445f04c94b098fa3a399f136b0de",
              "IPY_MODEL_2231ef0486234cbe9376f05efccbf96a",
              "IPY_MODEL_a7c91923fe374b29ac07b3b60a6c6f4e"
            ],
            "layout": "IPY_MODEL_9a82ca4d425f447fa96e2129bffb2b5f"
          }
        },
        "a5ebceb281ab47498ba3a43356b4afae": {
          "model_module": "@jupyter-widgets/base",
          "model_module_version": "1.2.0",
          "model_name": "LayoutModel",
          "state": {
            "_model_module": "@jupyter-widgets/base",
            "_model_module_version": "1.2.0",
            "_model_name": "LayoutModel",
            "_view_count": null,
            "_view_module": "@jupyter-widgets/base",
            "_view_module_version": "1.2.0",
            "_view_name": "LayoutView",
            "align_content": null,
            "align_items": null,
            "align_self": null,
            "border": null,
            "bottom": null,
            "display": null,
            "flex": null,
            "flex_flow": null,
            "grid_area": null,
            "grid_auto_columns": null,
            "grid_auto_flow": null,
            "grid_auto_rows": null,
            "grid_column": null,
            "grid_gap": null,
            "grid_row": null,
            "grid_template_areas": null,
            "grid_template_columns": null,
            "grid_template_rows": null,
            "height": null,
            "justify_content": null,
            "justify_items": null,
            "left": null,
            "margin": null,
            "max_height": null,
            "max_width": null,
            "min_height": null,
            "min_width": null,
            "object_fit": null,
            "object_position": null,
            "order": null,
            "overflow": null,
            "overflow_x": null,
            "overflow_y": null,
            "padding": null,
            "right": null,
            "top": null,
            "visibility": null,
            "width": null
          }
        },
        "a69b445f04c94b098fa3a399f136b0de": {
          "model_module": "@jupyter-widgets/controls",
          "model_module_version": "1.5.0",
          "model_name": "HTMLModel",
          "state": {
            "_dom_classes": [],
            "_model_module": "@jupyter-widgets/controls",
            "_model_module_version": "1.5.0",
            "_model_name": "HTMLModel",
            "_view_count": null,
            "_view_module": "@jupyter-widgets/controls",
            "_view_module_version": "1.5.0",
            "_view_name": "HTMLView",
            "description": "",
            "description_tooltip": null,
            "layout": "IPY_MODEL_b75b04f866e041b7a0261af4afc42c5c",
            "placeholder": "​",
            "style": "IPY_MODEL_60da8094e11044aa852d52f1154462e3",
            "value": "special_tokens_map.json: 100%"
          }
        },
        "a7c91923fe374b29ac07b3b60a6c6f4e": {
          "model_module": "@jupyter-widgets/controls",
          "model_module_version": "1.5.0",
          "model_name": "HTMLModel",
          "state": {
            "_dom_classes": [],
            "_model_module": "@jupyter-widgets/controls",
            "_model_module_version": "1.5.0",
            "_model_name": "HTMLModel",
            "_view_count": null,
            "_view_module": "@jupyter-widgets/controls",
            "_view_module_version": "1.5.0",
            "_view_name": "HTMLView",
            "description": "",
            "description_tooltip": null,
            "layout": "IPY_MODEL_af69ad5155a74c80b7a51d56022df514",
            "placeholder": "​",
            "style": "IPY_MODEL_8b6db5ff87e049bfa8b31771b4c4f50b",
            "value": " 112/112 [00:00&lt;00:00, 5.65kB/s]"
          }
        },
        "af69ad5155a74c80b7a51d56022df514": {
          "model_module": "@jupyter-widgets/base",
          "model_module_version": "1.2.0",
          "model_name": "LayoutModel",
          "state": {
            "_model_module": "@jupyter-widgets/base",
            "_model_module_version": "1.2.0",
            "_model_name": "LayoutModel",
            "_view_count": null,
            "_view_module": "@jupyter-widgets/base",
            "_view_module_version": "1.2.0",
            "_view_name": "LayoutView",
            "align_content": null,
            "align_items": null,
            "align_self": null,
            "border": null,
            "bottom": null,
            "display": null,
            "flex": null,
            "flex_flow": null,
            "grid_area": null,
            "grid_auto_columns": null,
            "grid_auto_flow": null,
            "grid_auto_rows": null,
            "grid_column": null,
            "grid_gap": null,
            "grid_row": null,
            "grid_template_areas": null,
            "grid_template_columns": null,
            "grid_template_rows": null,
            "height": null,
            "justify_content": null,
            "justify_items": null,
            "left": null,
            "margin": null,
            "max_height": null,
            "max_width": null,
            "min_height": null,
            "min_width": null,
            "object_fit": null,
            "object_position": null,
            "order": null,
            "overflow": null,
            "overflow_x": null,
            "overflow_y": null,
            "padding": null,
            "right": null,
            "top": null,
            "visibility": null,
            "width": null
          }
        },
        "b75b04f866e041b7a0261af4afc42c5c": {
          "model_module": "@jupyter-widgets/base",
          "model_module_version": "1.2.0",
          "model_name": "LayoutModel",
          "state": {
            "_model_module": "@jupyter-widgets/base",
            "_model_module_version": "1.2.0",
            "_model_name": "LayoutModel",
            "_view_count": null,
            "_view_module": "@jupyter-widgets/base",
            "_view_module_version": "1.2.0",
            "_view_name": "LayoutView",
            "align_content": null,
            "align_items": null,
            "align_self": null,
            "border": null,
            "bottom": null,
            "display": null,
            "flex": null,
            "flex_flow": null,
            "grid_area": null,
            "grid_auto_columns": null,
            "grid_auto_flow": null,
            "grid_auto_rows": null,
            "grid_column": null,
            "grid_gap": null,
            "grid_row": null,
            "grid_template_areas": null,
            "grid_template_columns": null,
            "grid_template_rows": null,
            "height": null,
            "justify_content": null,
            "justify_items": null,
            "left": null,
            "margin": null,
            "max_height": null,
            "max_width": null,
            "min_height": null,
            "min_width": null,
            "object_fit": null,
            "object_position": null,
            "order": null,
            "overflow": null,
            "overflow_x": null,
            "overflow_y": null,
            "padding": null,
            "right": null,
            "top": null,
            "visibility": null,
            "width": null
          }
        },
        "baf4b0e07218458486493c4d34dc4a40": {
          "model_module": "@jupyter-widgets/controls",
          "model_module_version": "1.5.0",
          "model_name": "HTMLModel",
          "state": {
            "_dom_classes": [],
            "_model_module": "@jupyter-widgets/controls",
            "_model_module_version": "1.5.0",
            "_model_name": "HTMLModel",
            "_view_count": null,
            "_view_module": "@jupyter-widgets/controls",
            "_view_module_version": "1.5.0",
            "_view_name": "HTMLView",
            "description": "",
            "description_tooltip": null,
            "layout": "IPY_MODEL_3a326afe59864ef08ba2dee2c3fa63ae",
            "placeholder": "​",
            "style": "IPY_MODEL_13665ce45c334a57b3089eb002952933",
            "value": " 81.0/81.0 [00:00&lt;00:00, 5.79kB/s]"
          }
        },
        "bb2d619229e6412aa6812135e18b7916": {
          "model_module": "@jupyter-widgets/controls",
          "model_module_version": "1.5.0",
          "model_name": "FloatProgressModel",
          "state": {
            "_dom_classes": [],
            "_model_module": "@jupyter-widgets/controls",
            "_model_module_version": "1.5.0",
            "_model_name": "FloatProgressModel",
            "_view_count": null,
            "_view_module": "@jupyter-widgets/controls",
            "_view_module_version": "1.5.0",
            "_view_name": "ProgressView",
            "bar_style": "success",
            "description": "",
            "description_tooltip": null,
            "layout": "IPY_MODEL_f5b8870f03a14a678ba65d490aa8cb86",
            "max": 81,
            "min": 0,
            "orientation": "horizontal",
            "style": "IPY_MODEL_f4452fd8a23545ecac90e8c7aa208a5d",
            "value": 81
          }
        },
        "c4e2763cd8184ddab29a05b5905149d0": {
          "model_module": "@jupyter-widgets/controls",
          "model_module_version": "1.5.0",
          "model_name": "FloatProgressModel",
          "state": {
            "_dom_classes": [],
            "_model_module": "@jupyter-widgets/controls",
            "_model_module_version": "1.5.0",
            "_model_name": "FloatProgressModel",
            "_view_count": null,
            "_view_module": "@jupyter-widgets/controls",
            "_view_module_version": "1.5.0",
            "_view_name": "ProgressView",
            "bar_style": "success",
            "description": "",
            "description_tooltip": null,
            "layout": "IPY_MODEL_11eb770c66894cf4abbcddd4e2c702ce",
            "max": 361,
            "min": 0,
            "orientation": "horizontal",
            "style": "IPY_MODEL_d16ca9c95e854160a225b1e1f3033bae",
            "value": 361
          }
        },
        "ca394cc581cb4932b2bf7d606961fccd": {
          "model_module": "@jupyter-widgets/controls",
          "model_module_version": "1.5.0",
          "model_name": "HBoxModel",
          "state": {
            "_dom_classes": [],
            "_model_module": "@jupyter-widgets/controls",
            "_model_module_version": "1.5.0",
            "_model_name": "HBoxModel",
            "_view_count": null,
            "_view_module": "@jupyter-widgets/controls",
            "_view_module_version": "1.5.0",
            "_view_name": "HBoxView",
            "box_style": "",
            "children": [
              "IPY_MODEL_1e57123d7d4f427ea4cbf922071e8332",
              "IPY_MODEL_c4e2763cd8184ddab29a05b5905149d0",
              "IPY_MODEL_6de95f5af4774338b4716789b4e45766"
            ],
            "layout": "IPY_MODEL_16f0d0e957474d9bba068d13a6dd5a51"
          }
        },
        "d16ca9c95e854160a225b1e1f3033bae": {
          "model_module": "@jupyter-widgets/controls",
          "model_module_version": "1.5.0",
          "model_name": "ProgressStyleModel",
          "state": {
            "_model_module": "@jupyter-widgets/controls",
            "_model_module_version": "1.5.0",
            "_model_name": "ProgressStyleModel",
            "_view_count": null,
            "_view_module": "@jupyter-widgets/base",
            "_view_module_version": "1.2.0",
            "_view_name": "StyleView",
            "bar_color": null,
            "description_width": ""
          }
        },
        "d4759799b6df417da6b40acd01968926": {
          "model_module": "@jupyter-widgets/base",
          "model_module_version": "1.2.0",
          "model_name": "LayoutModel",
          "state": {
            "_model_module": "@jupyter-widgets/base",
            "_model_module_version": "1.2.0",
            "_model_name": "LayoutModel",
            "_view_count": null,
            "_view_module": "@jupyter-widgets/base",
            "_view_module_version": "1.2.0",
            "_view_name": "LayoutView",
            "align_content": null,
            "align_items": null,
            "align_self": null,
            "border": null,
            "bottom": null,
            "display": null,
            "flex": null,
            "flex_flow": null,
            "grid_area": null,
            "grid_auto_columns": null,
            "grid_auto_flow": null,
            "grid_auto_rows": null,
            "grid_column": null,
            "grid_gap": null,
            "grid_row": null,
            "grid_template_areas": null,
            "grid_template_columns": null,
            "grid_template_rows": null,
            "height": null,
            "justify_content": null,
            "justify_items": null,
            "left": null,
            "margin": null,
            "max_height": null,
            "max_width": null,
            "min_height": null,
            "min_width": null,
            "object_fit": null,
            "object_position": null,
            "order": null,
            "overflow": null,
            "overflow_x": null,
            "overflow_y": null,
            "padding": null,
            "right": null,
            "top": null,
            "visibility": null,
            "width": null
          }
        },
        "dfb1b1c69ac740628db9e6146e718f64": {
          "model_module": "@jupyter-widgets/controls",
          "model_module_version": "1.5.0",
          "model_name": "DescriptionStyleModel",
          "state": {
            "_model_module": "@jupyter-widgets/controls",
            "_model_module_version": "1.5.0",
            "_model_name": "DescriptionStyleModel",
            "_view_count": null,
            "_view_module": "@jupyter-widgets/base",
            "_view_module_version": "1.2.0",
            "_view_name": "StyleView",
            "description_width": ""
          }
        },
        "e17fb088b6b946a98e47d0e6f712fb5b": {
          "model_module": "@jupyter-widgets/controls",
          "model_module_version": "1.5.0",
          "model_name": "DescriptionStyleModel",
          "state": {
            "_model_module": "@jupyter-widgets/controls",
            "_model_module_version": "1.5.0",
            "_model_name": "DescriptionStyleModel",
            "_view_count": null,
            "_view_module": "@jupyter-widgets/base",
            "_view_module_version": "1.2.0",
            "_view_name": "StyleView",
            "description_width": ""
          }
        },
        "eb21728d209f4c318c7c9f64dab6c00a": {
          "model_module": "@jupyter-widgets/base",
          "model_module_version": "1.2.0",
          "model_name": "LayoutModel",
          "state": {
            "_model_module": "@jupyter-widgets/base",
            "_model_module_version": "1.2.0",
            "_model_name": "LayoutModel",
            "_view_count": null,
            "_view_module": "@jupyter-widgets/base",
            "_view_module_version": "1.2.0",
            "_view_name": "LayoutView",
            "align_content": null,
            "align_items": null,
            "align_self": null,
            "border": null,
            "bottom": null,
            "display": null,
            "flex": null,
            "flex_flow": null,
            "grid_area": null,
            "grid_auto_columns": null,
            "grid_auto_flow": null,
            "grid_auto_rows": null,
            "grid_column": null,
            "grid_gap": null,
            "grid_row": null,
            "grid_template_areas": null,
            "grid_template_columns": null,
            "grid_template_rows": null,
            "height": null,
            "justify_content": null,
            "justify_items": null,
            "left": null,
            "margin": null,
            "max_height": null,
            "max_width": null,
            "min_height": null,
            "min_width": null,
            "object_fit": null,
            "object_position": null,
            "order": null,
            "overflow": null,
            "overflow_x": null,
            "overflow_y": null,
            "padding": null,
            "right": null,
            "top": null,
            "visibility": null,
            "width": null
          }
        },
        "ebe5bae9282e481588cfaf669af1d3fd": {
          "model_module": "@jupyter-widgets/controls",
          "model_module_version": "1.5.0",
          "model_name": "HBoxModel",
          "state": {
            "_dom_classes": [],
            "_model_module": "@jupyter-widgets/controls",
            "_model_module_version": "1.5.0",
            "_model_name": "HBoxModel",
            "_view_count": null,
            "_view_module": "@jupyter-widgets/controls",
            "_view_module_version": "1.5.0",
            "_view_name": "HBoxView",
            "box_style": "",
            "children": [
              "IPY_MODEL_f43dcf9a37be47f08617bd72a38bed22",
              "IPY_MODEL_29698658672a42aba704f733c228e6e5",
              "IPY_MODEL_27d5321fb7074d4c95b00e5e72e71c1d"
            ],
            "layout": "IPY_MODEL_5b52269eb01c4fd0b26acfaf139d5bc5"
          }
        },
        "f43dcf9a37be47f08617bd72a38bed22": {
          "model_module": "@jupyter-widgets/controls",
          "model_module_version": "1.5.0",
          "model_name": "HTMLModel",
          "state": {
            "_dom_classes": [],
            "_model_module": "@jupyter-widgets/controls",
            "_model_module_version": "1.5.0",
            "_model_name": "HTMLModel",
            "_view_count": null,
            "_view_module": "@jupyter-widgets/controls",
            "_view_module_version": "1.5.0",
            "_view_name": "HTMLView",
            "description": "",
            "description_tooltip": null,
            "layout": "IPY_MODEL_34bf2a306b474f61a13370d1c24df46e",
            "placeholder": "​",
            "style": "IPY_MODEL_39a7aa25c23943c8b8c946bc023d0543",
            "value": "tokenizer_config.json: 100%"
          }
        },
        "f4452fd8a23545ecac90e8c7aa208a5d": {
          "model_module": "@jupyter-widgets/controls",
          "model_module_version": "1.5.0",
          "model_name": "ProgressStyleModel",
          "state": {
            "_model_module": "@jupyter-widgets/controls",
            "_model_module_version": "1.5.0",
            "_model_name": "ProgressStyleModel",
            "_view_count": null,
            "_view_module": "@jupyter-widgets/base",
            "_view_module_version": "1.2.0",
            "_view_name": "StyleView",
            "bar_color": null,
            "description_width": ""
          }
        },
        "f5b8870f03a14a678ba65d490aa8cb86": {
          "model_module": "@jupyter-widgets/base",
          "model_module_version": "1.2.0",
          "model_name": "LayoutModel",
          "state": {
            "_model_module": "@jupyter-widgets/base",
            "_model_module_version": "1.2.0",
            "_model_name": "LayoutModel",
            "_view_count": null,
            "_view_module": "@jupyter-widgets/base",
            "_view_module_version": "1.2.0",
            "_view_name": "LayoutView",
            "align_content": null,
            "align_items": null,
            "align_self": null,
            "border": null,
            "bottom": null,
            "display": null,
            "flex": null,
            "flex_flow": null,
            "grid_area": null,
            "grid_auto_columns": null,
            "grid_auto_flow": null,
            "grid_auto_rows": null,
            "grid_column": null,
            "grid_gap": null,
            "grid_row": null,
            "grid_template_areas": null,
            "grid_template_columns": null,
            "grid_template_rows": null,
            "height": null,
            "justify_content": null,
            "justify_items": null,
            "left": null,
            "margin": null,
            "max_height": null,
            "max_width": null,
            "min_height": null,
            "min_width": null,
            "object_fit": null,
            "object_position": null,
            "order": null,
            "overflow": null,
            "overflow_x": null,
            "overflow_y": null,
            "padding": null,
            "right": null,
            "top": null,
            "visibility": null,
            "width": null
          }
        },
        "f8b9f61ea7ec442bbb379d0cf520c4e3": {
          "model_module": "@jupyter-widgets/controls",
          "model_module_version": "1.5.0",
          "model_name": "HBoxModel",
          "state": {
            "_dom_classes": [],
            "_model_module": "@jupyter-widgets/controls",
            "_model_module_version": "1.5.0",
            "_model_name": "HBoxModel",
            "_view_count": null,
            "_view_module": "@jupyter-widgets/controls",
            "_view_module_version": "1.5.0",
            "_view_name": "HBoxView",
            "box_style": "",
            "children": [
              "IPY_MODEL_362800dc75ae46feb4607786a2af449f",
              "IPY_MODEL_bb2d619229e6412aa6812135e18b7916",
              "IPY_MODEL_baf4b0e07218458486493c4d34dc4a40"
            ],
            "layout": "IPY_MODEL_79b39f93667748a9b05a25c1646814ec"
          }
        }
      }
    }
  },
  "nbformat": 4,
  "nbformat_minor": 0
}
